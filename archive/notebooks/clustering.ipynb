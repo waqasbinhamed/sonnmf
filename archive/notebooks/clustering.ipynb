{
 "cells": [
  {
   "cell_type": "code",
   "execution_count": null,
   "metadata": {},
   "outputs": [],
   "source": [
    "import math\n",
    "import numpy as np\n",
    "import matplotlib.pyplot as plt\n",
    "from PIL import Image"
   ]
  },
  {
   "cell_type": "code",
   "execution_count": null,
   "metadata": {},
   "outputs": [],
   "source": [
    "def resize_images(image_filenames, target_size):\n",
    "    resized_images = []\n",
    "    for filename in image_filenames:\n",
    "        img = Image.open(filename)\n",
    "        img = img.resize(target_size, Image.ANTIALIAS)\n",
    "        resized_images.append(img)\n",
    "    return resized_images\n",
    "\n",
    "def create_image_grid(image_list, max_images_per_row):\n",
    "    total_images = len(image_list)\n",
    "    rows = math.ceil(total_images / max_images_per_row)\n",
    "\n",
    "    # Calculate grid dimensions\n",
    "    grid_height = image_list[0].height * rows\n",
    "    grid_width = image_list[0].width * max_images_per_row\n",
    "\n",
    "    # Create an empty grid\n",
    "    grid = Image.new('L', (grid_width, grid_height), 255)\n",
    "\n",
    "    y_offset = 0\n",
    "    for i in range(0, total_images, max_images_per_row):\n",
    "        row_images = image_list[i:i+max_images_per_row]\n",
    "        x_offset = (grid_width - sum([img.width for img in row_images])) // 2  # Center images\n",
    "\n",
    "        max_height = max([img.height for img in row_images])\n",
    "\n",
    "        for img in row_images:\n",
    "            grid.paste(img, (x_offset, y_offset))\n",
    "            x_offset += img.width\n",
    "\n",
    "        y_offset += max_height\n",
    "\n",
    "    return grid\n",
    "\n",
    "def mrsa_angle(x, y):\n",
    "    _x = np.mean(x)\n",
    "    _y = np.mean(y)\n",
    "    xdiff = x - _x\n",
    "    ydiff = y - _y\n",
    "    mrsa_value = (1 / np.pi) * np.arccos((xdiff.T @ ydiff) / (np.linalg.norm(xdiff) * np.linalg.norm(ydiff)))\n",
    "    return mrsa_value\n",
    "\n",
    "def find_lowest_mrsa_index(W, search_idxs, sumW):\n",
    "    lowest_mrsa = float('inf')\n",
    "    lowest_idx = None\n",
    "    \n",
    "    for idx in search_idxs:\n",
    "        current_mrsa = mrsa_angle(sumW, W[:, idx:idx+1])\n",
    "        if current_mrsa < lowest_mrsa:\n",
    "            lowest_mrsa = current_mrsa\n",
    "            lowest_idx = idx\n",
    "                \n",
    "    return lowest_idx, lowest_mrsa"
   ]
  },
  {
   "cell_type": "code",
   "execution_count": null,
   "metadata": {},
   "outputs": [],
   "source": [
    "data_filepath = '../datasets/jasper_full.npz'\n",
    "ini_filepath = '../saved_models/jasper_full/r{}_ini.npz'\n",
    "save_filepath = '../saved_models/jasper_full/r{}_l{}_g{}_it{}.npz'\n",
    "image_filepath = '../images/jasper_full/r{}_l{}_g{}_it{}.jpg'"
   ]
  },
  {
   "cell_type": "code",
   "execution_count": null,
   "metadata": {},
   "outputs": [],
   "source": [
    "M = np.load(data_filepath)['X']\n",
    "M = M.astype(np.float64)\n",
    "m, n = M.shape"
   ]
  },
  {
   "cell_type": "code",
   "execution_count": null,
   "metadata": {},
   "outputs": [],
   "source": [
    "r = 20\n",
    "iters = 1000\n",
    "_lam = 1000000\n",
    "_gamma = 1000000"
   ]
  },
  {
   "cell_type": "code",
   "execution_count": null,
   "metadata": {},
   "outputs": [],
   "source": [
    "unique_idxs = [6, 8, 14]"
   ]
  },
  {
   "cell_type": "code",
   "execution_count": null,
   "metadata": {},
   "outputs": [],
   "source": [
    "H3d = H.reshape(r, 100, 100, order='F') \n",
    "sumH = H3d.sum(axis=0)\n",
    "\n",
    "search_idxs = [x for x in range(r) if x not in unique_idxs]"
   ]
  },
  {
   "cell_type": "code",
   "execution_count": null,
   "metadata": {},
   "outputs": [],
   "source": [
    "for i in range(r):\n",
    "    plt.imshow(H3d[i, :, :], cmap='gray')\n",
    "    plt.colorbar()\n",
    "    \n",
    "    a = plt.gca()\n",
    "    xax = a.axes.get_xaxis()\n",
    "    xax = xax.set_visible(False)\n",
    "    yax = a.axes.get_yaxis()\n",
    "    yax = yax.set_visible(False)\n",
    "\n",
    "    plt.savefig(f'../images/jasper_full/jasper_full_c{i}.jpg', bbox_inches='tight')\n",
    "    plt.close()"
   ]
  },
  {
   "cell_type": "code",
   "execution_count": null,
   "metadata": {},
   "outputs": [],
   "source": [
    "sumH2 = H3d[search_idxs].sum(axis=0)\n",
    "\n",
    "\n",
    "# plt.imshow(sumH2, vmin=0, vmax=pmax, cmap='gray')\n",
    "plt.imshow(sumH2, cmap='gray')\n",
    "plt.colorbar()\n",
    "\n",
    "a = plt.gca()\n",
    "xax = a.axes.get_xaxis()\n",
    "xax = xax.set_visible(False)\n",
    "yax = a.axes.get_yaxis()\n",
    "yax = yax.set_visible(False)\n",
    "\n",
    "# plt.savefig(f'../images/jasper_full/nonunique.jpg', bbox_inches='tight')\n",
    "# plt.close()\n"
   ]
  },
  {
   "cell_type": "code",
   "execution_count": null,
   "metadata": {},
   "outputs": [],
   "source": [
    "# plt.imshow(sumH, vmin=0, vmax=pmax, cmap='gray')\n",
    "plt.imshow(sumH, cmap='gray')\n",
    "plt.colorbar()\n",
    "\n",
    "a = plt.gca()\n",
    "xax = a.axes.get_xaxis()\n",
    "xax = xax.set_visible(False)\n",
    "yax = a.axes.get_yaxis()\n",
    "yax = yax.set_visible(False)\n",
    "\n",
    "plt.savefig(f'../images/jasper_full/summed.jpg', bbox_inches='tight')\n",
    "plt.close()"
   ]
  },
  {
   "cell_type": "code",
   "execution_count": null,
   "metadata": {},
   "outputs": [],
   "source": [
    "image_filenames = [f'../images/jasper_full/jasper_full_c{idx}.jpg' for idx in range(r) if idx not in unique_idxs]\n",
    "target_size = (500, 500)  # Adjust the size as needed\n",
    "max_images_per_row = 5\n",
    "\n",
    "resized_images = resize_images(image_filenames, target_size)\n",
    "grid_image = create_image_grid(resized_images, max_images_per_row)\n",
    "grid_image.show()\n",
    "grid_image.save('../images/jasper_full/nonunique_grid.jpg')"
   ]
  },
  {
   "cell_type": "code",
   "execution_count": null,
   "metadata": {},
   "outputs": [],
   "source": [
    "image_filenames = ['../images/jasper_full/nonunique.jpg'] + [f'../images/jasper_full/jasper_full_c{idx}.jpg' for idx in unique_idxs]\n",
    "target_size = (500, 500)  # Adjust the size as needed\n",
    "max_images_per_row = 4\n",
    "\n",
    "resized_images = resize_images(image_filenames, target_size)\n",
    "grid_image = create_image_grid(resized_images, max_images_per_row)\n",
    "grid_image.show()\n",
    "grid_image.save('../images/jasper_full/level_2_grid.jpg')"
   ]
  },
  {
   "cell_type": "code",
   "execution_count": null,
   "metadata": {},
   "outputs": [],
   "source": [
    "resized_images = resize_images(['../images/jasper_full/summed.jpg'], (550, 500))\n",
    "resized_images[0].show()\n",
    "resized_images[0].save('../images/jasper_full/summed.jpg')\n"
   ]
  },
  {
   "cell_type": "code",
   "execution_count": null,
   "metadata": {},
   "outputs": [],
   "source": [
    "image_filenames = [f'../images/jasper_full/jasper_full_c{idx}.jpg' for idx in [0, 1, 4, 7, 11, 18]]\n",
    "target_size = (500, 500)  # Adjust the size as needed\n",
    "max_images_per_row = 2\n",
    "\n",
    "resized_images = resize_images(image_filenames, target_size)\n",
    "grid_image = create_image_grid(resized_images, max_images_per_row)\n",
    "grid_image.show()\n",
    "grid_image.save('../images/jasper_full/cluster_1.jpg')"
   ]
  },
  {
   "cell_type": "code",
   "execution_count": null,
   "metadata": {},
   "outputs": [],
   "source": [
    "image_filenames = [f'../images/jasper_full/jasper_full_c{idx}.jpg' for idx in [2, 3, 5, 9, 10, 12, 13, 16]]\n",
    "target_size = (500, 500)  # Adjust the size as needed\n",
    "max_images_per_row = 3\n",
    "\n",
    "resized_images = resize_images(image_filenames, target_size)\n",
    "grid_image = create_image_grid(resized_images, max_images_per_row)\n",
    "grid_image.show()\n",
    "grid_image.save('../images/jasper_full/cluster_2.jpg')"
   ]
  },
  {
   "cell_type": "code",
   "execution_count": null,
   "metadata": {},
   "outputs": [],
   "source": [
    "# image_filenames = [f'../images/jasper_full/jasper_full_c{idx}.jpg' for idx in [11, 15]]\n",
    "# target_size = (500, 500)  # Adjust the size as needed\n",
    "# max_images_per_row = 1\n",
    "\n",
    "# resized_images = resize_images(image_filenames, target_size)\n",
    "# grid_image = create_image_grid(resized_images, max_images_per_row)\n",
    "# grid_image.show()\n",
    "# grid_image.save('../images/jasper_full/cluster_3.jpg')"
   ]
  },
  {
   "cell_type": "code",
   "execution_count": null,
   "metadata": {},
   "outputs": [],
   "source": [
    "# image_filenames = [f'../images/jasper_full/jasper_full_c{idx}.jpg' for idx in [15, 17, 19]]\n",
    "# target_size = (500, 500)  # Adjust the size as needed\n",
    "# max_images_per_row = 1\n",
    "\n",
    "# resized_images = resize_images(image_filenames, target_size)\n",
    "# grid_image = create_image_grid(resized_images, max_images_per_row)\n",
    "# grid_image.show()\n",
    "# grid_image.save('../images/jasper_full/cluster_3.jpg')"
   ]
  },
  {
   "cell_type": "code",
   "execution_count": null,
   "metadata": {},
   "outputs": [],
   "source": [
    "# i = 1\n",
    "# search_idxs = [x for x in range(r) if x not in unique_idxs]\n",
    "\n",
    "# while len(search_idxs) > 0:\n",
    "#     curr_idx, curr_mrsa = find_lowest_mrsa_index(W, search_idxs, W[:, search_idxs].sum(axis=1, keepdims=True))\n",
    "#     print(curr_idx, curr_mrsa)\n",
    "#     plt.imshow(H3d[curr_idx], cmap='gray')\n",
    "#     plt.colorbar()\n",
    "#     a = plt.gca()\n",
    "#     xax = a.axes.get_xaxis()\n",
    "#     xax = xax.set_visible(False)\n",
    "#     yax = a.axes.get_yaxis()\n",
    "#     yax = yax.set_visible(False)\n",
    "\n",
    "#     filename = f'../images/jasper_full/l{i}_ex_{curr_idx}.jpg'\n",
    "#     plt.savefig(filename, bbox_inches='tight')\n",
    "#     plt.close()\n",
    "\n",
    "#     img = Image.open(filename)\n",
    "#     img = img.resize((500, 500), Image.ANTIALIAS)\n",
    "#     img.save(filename)        \n",
    "\n",
    "\n",
    "#     search_idxs.remove(curr_idx)\n",
    "\n",
    "#     plt.imshow(H3d[search_idxs].sum(axis=0), cmap='gray')\n",
    "#     plt.colorbar()\n",
    "#     a = plt.gca()\n",
    "#     xax = a.axes.get_xaxis()\n",
    "#     xax = xax.set_visible(False)\n",
    "#     yax = a.axes.get_yaxis()\n",
    "#     yax = yax.set_visible(False)\n",
    "\n",
    "#     filename = f'../images/jasper_full/l{i}_summed.jpg'\n",
    "#     plt.savefig(filename, bbox_inches='tight')\n",
    "#     plt.close()\n",
    "\n",
    "#     img = Image.open(filename)\n",
    "#     img = img.resize((500, 500), Image.ANTIALIAS)\n",
    "#     img.save(filename)   \n",
    "\n",
    "#     i += 1"
   ]
  }
 ],
 "metadata": {
  "language_info": {
   "name": "python"
  },
  "orig_nbformat": 4
 },
 "nbformat": 4,
 "nbformat_minor": 2
}
