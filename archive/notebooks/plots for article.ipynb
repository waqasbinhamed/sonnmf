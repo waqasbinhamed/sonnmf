{
 "cells": [
  {
   "cell_type": "code",
   "execution_count": null,
   "metadata": {
    "collapsed": false,
    "pycharm": {
     "is_executing": true,
     "name": "#%%\n"
    }
   },
   "outputs": [],
   "source": [
    "import os\n",
    "import numpy as np\n",
    "from PIL import Image\n",
    "import matplotlib.pyplot as plt\n",
    "import matplotlib.patches as patches\n",
    "from mpl_toolkits.axes_grid1 import make_axes_locatable\n",
    "from sklearn.decomposition import NMF\n",
    "\n",
    "np.random.seed(42)\n",
    "np.set_printoptions(precision=3)"
   ]
  },
  {
   "cell_type": "code",
   "execution_count": null,
   "metadata": {},
   "outputs": [],
   "source": [
    "def plot_separate_H(H, img_size, figsize, fontsize, num_rows=4, normalize_row=False, filename=None):\n",
    "    rank = H.shape[0]\n",
    "    if normalize_row:\n",
    "        H /= np.linalg.norm(H, axis=1, keepdims=True)\n",
    "    H3d = H.reshape(-1, img_size[0], img_size[1], order='F')\n",
    "    num_cols = int(np.ceil(rank / num_rows))\n",
    "    if num_rows > 1:\n",
    "        fig, axs = plt.subplots(num_rows, num_cols, figsize=figsize)\n",
    "        cnt = 0\n",
    "        for i in range(num_rows):\n",
    "            for j in range(num_cols):\n",
    "                if cnt < rank:\n",
    "                    img = axs[i, j].imshow(H3d[cnt, :, :], cmap='gray_r')\n",
    "                    axs[i, j].set_title(f'$h^{{{cnt + 1}}}$', fontsize=fontsize)\n",
    "                    axs[i, j].axis('off')\n",
    "                    divider = make_axes_locatable(axs[i, j])\n",
    "                    cax = divider.append_axes('right', size='5%', pad=0.1)\n",
    "                    fig.colorbar(img, cax=cax, orientation='vertical')\n",
    "                else:\n",
    "                    axs[i, j].axis('off')\n",
    "                cnt += 1\n",
    "    else:\n",
    "        fig, axs = plt.subplots(1, rank, figsize=figsize)\n",
    "        cnt = 0\n",
    "        while cnt < rank:\n",
    "            img = axs[cnt].imshow(H3d[cnt, :, :], cmap='gray_r')\n",
    "            axs[cnt].set_title(f'$h^{{{cnt + 1}}}$', fontsize=fontsize)\n",
    "            axs[cnt].axis('off')\n",
    "            divider = make_axes_locatable(axs[cnt])\n",
    "            cax = divider.append_axes('right', size='5%', pad=0.1)\n",
    "            fig.colorbar(img, cax=cax, orientation='vertical')\n",
    "\n",
    "            cnt += 1\n",
    "    plt.tight_layout()\n",
    "    if filename:\n",
    "        plt.savefig(filename)\n",
    "        plt.close()\n",
    "\n",
    "def plot_combined_H(H, img_size, figsize, num_rows=1, normalize_row=False, filename=None):\n",
    "    if normalize_row:\n",
    "        H /= np.linalg.norm(H, axis=1, keepdims=True)\n",
    "\n",
    "    H3d = H.reshape(-1, img_size[0], img_size[1], order='F')\n",
    "\n",
    "    if num_rows > 1:\n",
    "        num_cols = int(np.ceil(H.shape[0] / num_rows))\n",
    "        large_mat = np.vstack([np.hstack(H3d[i * num_cols: (i+1) * num_cols]) for i in range(num_rows)])\n",
    "    else:\n",
    "        large_mat = np.hstack(H3d)\n",
    "\n",
    "    fig, ax = plt.subplots(figsize=figsize)\n",
    "    im = ax.imshow(large_mat, cmap='gray_r')\n",
    "    divider = make_axes_locatable(ax)\n",
    "    cax = divider.append_axes('right', size='3%', pad=0.1)\n",
    "    fig.colorbar(im, cax=cax, orientation='vertical')\n",
    "\n",
    "    plt.tight_layout()\n",
    "\n",
    "    if filename:\n",
    "        plt.savefig(filename)\n",
    "        plt.close()\n",
    "\n",
    "def plot_W_mats(W, figsize, fontsize, n_rows=1, filename=None, scale_y=False, plot_title=None):\n",
    "    rank = W.shape[1]\n",
    "    wmin, wmax = np.min(W), np.max(W)\n",
    "\n",
    "    n_cols = int(np.ceil(rank / n_rows))\n",
    "    fig, axs = plt.subplots(n_rows, n_cols, figsize=figsize)\n",
    "    axs = axs.ravel()\n",
    "\n",
    "    for cnt, ax in enumerate(axs):\n",
    "        if cnt < rank:\n",
    "            ax.plot(W[:, cnt], linewidth=3)\n",
    "            if scale_y:\n",
    "                ax.set_ylim([min(0, wmin), wmax])\n",
    "\n",
    "            ax.set_title(f'$w_{{{cnt + 1}}}$', fontsize=fontsize)\n",
    "            ax.set_xlabel('Bands')\n",
    "            ax.set_ylabel('Reflectance')\n",
    "        else:\n",
    "            ax.axis('off')\n",
    "\n",
    "    plt.tight_layout()\n",
    "    if plot_title:\n",
    "        fig.suptitle(plot_title, fontsize=25)\n",
    "    if filename:\n",
    "        fig.savefig(filename)\n",
    "        plt.close()\n",
    "\n",
    "def merge_images(images_list, filename, delete_images=False):\n",
    "    imgs = [Image.open(i) for i in images_list]\n",
    "    min_img_width = min(i.width for i in imgs)\n",
    "\n",
    "    total_height = 0\n",
    "    for i, img in enumerate(imgs):\n",
    "        if img.width > min_img_width:\n",
    "            imgs[i] = img.resize((min_img_width, int(img.height / img.width * min_img_width)), Image.ANTIALIAS)\n",
    "        total_height += imgs[i].height\n",
    "\n",
    "    img_merge = Image.new(imgs[0].mode, (min_img_width, total_height))\n",
    "    y = 0\n",
    "    for img in imgs:\n",
    "        img_merge.paste(img, (0, y))\n",
    "        y += img.height\n",
    "\n",
    "    img_merge.save(filename)\n",
    "\n",
    "    if delete_images:\n",
    "        for fp in images_list:\n",
    "            os.remove(fp)\n",
    "\n",
    "def plot_and_merge(W, H, imgsize, figsize, fontsize, filenames, num_rows, delete=False):\n",
    "    plot_W_mats(W, figsize, fontsize=fontsize, n_rows=num_rows, filename=filenames[0])\n",
    "    plot_separate_H(H, imgsize, figsize=figsize, fontsize=fontsize, num_rows=num_rows, filename=filenames[1])\n",
    "    plot_combined_H(H, imgsize, figsize=figsize, num_rows=num_rows, filename=filenames[2])\n",
    "    merge_images(filenames[:3], filenames[3], delete_images=delete)\n",
    "\n",
    "def load_results(filepath):\n",
    "    data = np.load(filepath)\n",
    "    return data['W'], data['H'], data['fscores'], data['gscores'], data['hscores'], data['total_scores']"
   ]
  },
  {
   "cell_type": "markdown",
   "metadata": {
    "collapsed": false,
    "pycharm": {
     "name": "#%% md\n"
    }
   },
   "source": [
    "## Region selection (for Jasper subimages)"
   ]
  },
  {
   "cell_type": "code",
   "execution_count": null,
   "metadata": {
    "collapsed": false,
    "pycharm": {
     "name": "#%%\n"
    }
   },
   "outputs": [],
   "source": [
    "img = plt.imread('../for_article/jasper_image.png')\n",
    "plt.imshow(img)\n",
    "\n",
    "rect1 = patches.Rectangle((0, 62), 8, 8, linewidth=2, edgecolor='r', facecolor='none') # jasper region 1\n",
    "rect2 = patches.Rectangle((30, 10), 10, 10, linewidth=2, edgecolor='r', facecolor='none') # jasper region 2\n",
    "rect3 = patches.Rectangle((0, 0), 99, 99, linewidth=2, edgecolor='r', facecolor='none')\n",
    "\n",
    "ax = plt.gca()\n",
    "ax.add_patch(rect1)\n",
    "ax.add_patch(rect2)\n",
    "ax.add_patch(rect3)\n",
    "\n",
    "ax.text(-4, 67, \"1\", color='r', fontsize=30, ha='center', va='center')\n",
    "ax.text(35, 16, \"2\", color='r', fontsize=30, ha='center', va='center')\n",
    "ax.text(106, 98, \"3\", color='r', fontsize=30, ha='right', va='bottom')\n",
    "\n",
    "ax.axis(False)\n",
    "plt.savefig('../for_article/jasper_regions.pdf', bbox_inches='tight')"
   ]
  },
  {
   "cell_type": "code",
   "execution_count": null,
   "metadata": {},
   "outputs": [],
   "source": [
    "\n",
    "img = plt.imread('../for_article/urban.png')\n",
    "plt.imshow(img)\n",
    "plt.axis(False)\n",
    "plt.savefig('../for_article/urban.pdf', bbox_inches='tight')"
   ]
  },
  {
   "cell_type": "markdown",
   "metadata": {
    "collapsed": false,
    "pycharm": {
     "name": "#%% md\n"
    }
   },
   "source": [
    "## Synthetic"
   ]
  },
  {
   "cell_type": "code",
   "execution_count": null,
   "metadata": {
    "collapsed": false,
    "pycharm": {
     "name": "#%%\n"
    }
   },
   "outputs": [],
   "source": [
    "def plot_3d(ax, X, Wt, W):\n",
    "    # fig = plt.figure()\n",
    "    # ax = fig.add_subplot(111, projection='3d')\n",
    "    ax.scatter(X[0, :], X[1, :], X[2, :], c='lightblue', marker='o')\n",
    "    ax.scatter(Wt[0, :], Wt[1, :], Wt[2, :], c='red', marker='o', s=144)\n",
    "    ax.scatter(W[0, :], W[1, :], W[2, :], c='black', marker='x', s=144)\n",
    "    ax.set_xlabel('X1')\n",
    "    ax.set_ylabel('X2')\n",
    "    ax.set_zlabel('X3')\n",
    "    # ax.legend(['Data points', 'True W', 'Estimated W'])\n",
    "    ax.grid(True)"
   ]
  },
  {
   "cell_type": "code",
   "execution_count": null,
   "metadata": {
    "collapsed": false,
    "pycharm": {
     "name": "#%%\n"
    }
   },
   "outputs": [],
   "source": [
    "data_filepath = '../datasets/synthetic_data.npz'\n",
    "\n",
    "data = np.load(data_filepath)\n",
    "M = data['M']\n",
    "W_true = data['W_true']\n",
    "H_true = data['H_true']"
   ]
  },
  {
   "cell_type": "code",
   "execution_count": null,
   "metadata": {
    "collapsed": false,
    "pycharm": {
     "name": "#%%\n"
    }
   },
   "outputs": [],
   "source": [
    "row_labels = ['Rank 4', 'Rank 8']\n",
    "col_labels = ['Vanilla NMF', 'Vanilla NMF (L2 norm adjusted)', 'SONNMF']\n",
    "\n",
    "fig = plt.figure(figsize=(14, 8))\n",
    "gs = fig.add_gridspec(2, len(col_labels) + 1, width_ratios=[0.02] + len(col_labels) * [1], hspace=0.1)\n",
    "\n",
    "for i, rlabel in enumerate(row_labels):\n",
    "    txt_ax = fig.add_subplot(gs[i, 0])\n",
    "    txt_ax.text(0.5, 0.5, rlabel, ha='center', va='center', fontsize=14)\n",
    "    txt_ax.axis('off')\n",
    "\n",
    "r = 4\n",
    "_lam = 1e-6\n",
    "_gamma = 10\n",
    "max_iters = 1000\n",
    "\n",
    "\n",
    "vW1 = np.load('../saved_models/synthetic/vanilla_r{}_it{}.npz'.format(r, max_iters))['W']\n",
    "col_norm_vW1 = np.linalg.norm(vW1, axis=0, ord=2, keepdims=True)\n",
    "vW1_re = vW1 / col_norm_vW1\n",
    "cW1, _, _, _, _, _ = load_results('../saved_models/synthetic/r{}_l{}_g{}_it{}.npz'.format(r, _lam, _gamma, max_iters))\n",
    "\n",
    "for i, curr_W in enumerate([vW1, vW1_re, cW1]):\n",
    "    curr_subplot = fig.add_subplot(gs[0, i+1], projection='3d')\n",
    "    plot_3d(curr_subplot, M, W_true, curr_W)\n",
    "    curr_subplot.set_title(col_labels[i], fontsize=14)\n",
    "\n",
    "\n",
    "r = 8\n",
    "_lam = 1e-6\n",
    "_gamma = 1.5\n",
    "\n",
    "vW2 = np.load('../saved_models/synthetic/vanilla_r{}_it{}.npz'.format(r, max_iters))['W']\n",
    "col_norm_vW2 = np.linalg.norm(vW2, axis=0, ord=2, keepdims=True)\n",
    "vW2_re = vW2 / col_norm_vW2\n",
    "cW2, _, _, _, _, _ = load_results('../saved_models/synthetic/r{}_l{}_g{}_it{}.npz'.format(r, _lam, _gamma, max_iters))\n",
    "\n",
    "for i, curr_W in enumerate([vW2, vW2_re, cW2]):\n",
    "    plot_3d(fig.add_subplot(gs[1, i+1], projection='3d'), M, W_true, curr_W)\n",
    "fig.legend(['Data points', 'True W', 'Estimated W'],\n",
    "                 bbox_to_anchor=(0.2, 0.9, 0, 0))\n",
    "fig.subplots_adjust(wspace=0)\n",
    "# plt.savefig('../for_article/synthetic_vanilla_vs_sonnmf.pdf', bbox_inches='tight')"
   ]
  },
  {
   "cell_type": "code",
   "execution_count": null,
   "metadata": {
    "collapsed": false,
    "pycharm": {
     "name": "#%%\n"
    }
   },
   "outputs": [],
   "source": [
    "ini_filepath = '../saved_models/synthetic/r{}_ini.npz'\n",
    "save_filepath = '../saved_models/synthetic/r{}_l{}_g{}_it{}.npz'\n",
    "\n",
    "r = 8\n",
    "_lam = 1e-6\n",
    "_gamma = 1.5\n",
    "\n",
    "fig = plt.figure(figsize=(16, 5))\n",
    "axs = [fig.add_subplot(1, 4, i+1, projection='3d') for i in range(4)]\n",
    "\n",
    "\n",
    "data = np.load(ini_filepath.format(r))\n",
    "ini_W = data['ini_W']\n",
    "ini_H = data['ini_H']\n",
    "plot_3d(axs[0], M, W_true, ini_W)\n",
    "axs[0].set_title('Initial')\n",
    "\n",
    "\n",
    "# Loop over iterations and plot W using plot_3d function\n",
    "for i, it in enumerate([10, 100, 1000]):\n",
    "    W, _, _, _, _, _ = load_results(save_filepath.format(r, _lam, _gamma, it))\n",
    "    plot_3d(axs[i+1], M, W_true, W)\n",
    "    axs[i+1].set_title('{} iterations'.format(it))\n",
    "fig.legend(['Data points', 'True W', 'Estimated W'],\n",
    "                 bbox_to_anchor=(0.97, 0.85, 0, 0))\n",
    "# plt.subplots_adjust(left=0.05, right=0.95, bottom=0.05, top=0.95, wspace=0.2)\n",
    "\n",
    "plt.savefig('../for_article/synthetic_r8_iterations.pdf', bbox_inches='tight')"
   ]
  },
  {
   "cell_type": "markdown",
   "metadata": {},
   "source": [
    "## jasper region 1 (8x8)"
   ]
  },
  {
   "cell_type": "code",
   "execution_count": null,
   "metadata": {},
   "outputs": [],
   "source": [
    "r = 64\n",
    "_lam = 40000\n",
    "_gamma = 10000\n",
    "max_iters = 2000\n",
    "\n",
    "W, H, fscores, gscores, hscores, total_scores = load_results(f'../saved_models/jasper_region_1/r{r}_l{_lam}_g{_gamma}_it{max_iters}.npz')"
   ]
  },
  {
   "cell_type": "code",
   "execution_count": null,
   "metadata": {},
   "outputs": [],
   "source": [
    "# plt.imshow(np.corrcoef(W, rowvar=False), 'gray')\n",
    "# plt.colorbar()\n",
    "# plt.tight_layout()"
   ]
  },
  {
   "cell_type": "code",
   "execution_count": null,
   "metadata": {},
   "outputs": [],
   "source": [
    "unique_idxs = [17]\n",
    "other_idxs = [x for x in range(r) if x not in unique_idxs]"
   ]
  },
  {
   "cell_type": "code",
   "execution_count": null,
   "metadata": {},
   "outputs": [],
   "source": [
    "wmin, wmax = np.min(W), np.max(W)\n",
    "\n",
    "\n",
    "fig, axs = plt.subplots(1, len(unique_idxs) + 1, figsize=(6, 3), sharex=True, sharey=True)\n",
    "axs = axs.ravel()\n",
    "\n",
    "\n",
    "for cnt, ax in enumerate(axs):\n",
    "    if cnt == 0:\n",
    "        ax.set_ylabel('Reflectance')\n",
    "    ax.set_xlabel('Bands')\n",
    "    ax.set_ylim([min(0, wmin), wmax])\n",
    "    ax.grid(which='both', linewidth=0.5, color='lightgrey')\n",
    "\n",
    "\n",
    "for ax_idx, w_idx in enumerate(unique_idxs):\n",
    "    axs[ax_idx].plot(W[:, w_idx], linewidth=2)\n",
    "    axs[ax_idx].set_title(f'$w_{{{w_idx + 1}}}$', fontsize=14, x=0.92, y=0.87) # indexing from 1\n",
    "\n",
    "axs[-1].plot(W[:, other_idxs], linewidth=0.5)\n",
    "axs[-1].set_title('$w_{{{other}}}$', fontsize=14, x=0.87, y=0.87)\n",
    "\n",
    "plt.savefig('../for_article/jasper_region_1_w_overlapped.pdf', bbox_inches='tight')"
   ]
  },
  {
   "cell_type": "code",
   "execution_count": null,
   "metadata": {},
   "outputs": [],
   "source": [
    "newH = np.vstack((H[unique_idxs, :], H[other_idxs, :].sum(axis=0)))\n",
    "newH3d = newH.reshape(-1, 8, 8, order='F')\n",
    "large_mat = np.hstack(newH3d)\n",
    "\n",
    "fig, ax = plt.subplots(figsize=(6, 3))\n",
    "img = ax.imshow(large_mat, cmap='gray')\n",
    "divider = make_axes_locatable(ax)\n",
    "cax = divider.append_axes('right', size='3%', pad=0.1)\n",
    "fig.colorbar(img, cax=cax, orientation='vertical')\n",
    "ax.set_xticks([])\n",
    "ax.set_yticks([])\n",
    "\n",
    "plt.savefig('../for_article/jasper_region_1_h_summed.pdf', bbox_inches='tight')"
   ]
  },
  {
   "cell_type": "markdown",
   "metadata": {
    "collapsed": false,
    "pycharm": {
     "name": "#%% md\n"
    }
   },
   "source": [
    "## jasper region 2 (10x10)"
   ]
  },
  {
   "cell_type": "code",
   "execution_count": null,
   "metadata": {},
   "outputs": [],
   "source": [
    "data_filepath = '../datasets/jasper_region_2.npz'\n",
    "ini_filepath = '../saved_models/jasper_region_2/r{}_ini.npz'"
   ]
  },
  {
   "cell_type": "code",
   "execution_count": null,
   "metadata": {},
   "outputs": [],
   "source": [
    "M = np.load(data_filepath)['X']\n",
    "M = M.astype(np.float64)\n",
    "m, n = M.shape\n",
    "r = n"
   ]
  },
  {
   "cell_type": "code",
   "execution_count": null,
   "metadata": {},
   "outputs": [],
   "source": [
    "if os.path.exists(ini_filepath.format(r)):\n",
    "    data = np.load(ini_filepath.format(r))\n",
    "    ini_W = data['ini_W']\n",
    "    ini_H = data['ini_H']\n",
    "else:\n",
    "    ini_W = np.random.rand(m, r)\n",
    "    ini_H = np.random.rand(r, n)\n",
    "    with open(ini_filepath.format(r), 'wb') as fout:\n",
    "        np.savez_compressed(fout, ini_W=ini_W, ini_H=ini_H)"
   ]
  },
  {
   "cell_type": "code",
   "execution_count": null,
   "metadata": {
    "collapsed": false,
    "pycharm": {
     "name": "#%%\n"
    }
   },
   "outputs": [],
   "source": [
    "_lam = 1000\n",
    "_gamma = 0.001\n",
    "max_iters = 1000\n",
    "\n",
    "W, H, fscores, gscores, hscores, total_scores = load_results(f'../saved_models/jasper_region_2/r{r}_l{_lam}_g{_gamma}_it{max_iters}.npz')"
   ]
  },
  {
   "cell_type": "code",
   "execution_count": null,
   "metadata": {},
   "outputs": [],
   "source": [
    "fig, axs = plt.subplots(1, 4, figsize=(12, 3), sharex=True, sharey=True)\n",
    "axs = axs.ravel()\n",
    "\n",
    "for cnt, ax in enumerate(axs):\n",
    "    if cnt == 0:\n",
    "        ax.set_ylabel('Reflectance')\n",
    "    ax.set_xlabel('Bands')\n",
    "    ax.grid(which='both', linewidth=0.5, color='lightgrey')\n",
    "\n",
    "\n",
    "axs[0].plot(W / np.max(W), linewidth=0.5)\n",
    "axs[0].set_title('SONNMF', fontsize=18, x=0.5, y=0.87)\n",
    "\n",
    "w, v = np.linalg.eig(M @ M.T)\n",
    "axs[1].plot(v[:, 0] / np.max(v[:, 0]), linewidth=1)\n",
    "axs[1].set_title('Eigendecomposition', fontsize=12, x=0.5, y=0.87)\n",
    "\n",
    "\n",
    "model = NMF(n_components=1, random_state=42, max_iter=max_iters)\n",
    "W_NMF = model.fit_transform(X=M)\n",
    "axs[2].plot(W_NMF / np.max(W_NMF), linewidth=1)\n",
    "axs[2].set_title('NMF-1', fontsize=18, x=0.5, y=0.87)\n",
    "\n",
    "axs[3].plot(W / np.max(W), linewidth=0.5)\n",
    "axs[3].plot(v[:, 0] / np.max(v[:, 0]), linewidth=1)\n",
    "axs[3].plot(W_NMF / np.max(W_NMF), linewidth=1)\n",
    "axs[3].set_title('Overlapping', fontsize=12, x=0.5, y=0.87)\n",
    "\n",
    "\n",
    "# Adjust layout and display plot\n",
    "plt.tight_layout()\n",
    "plt.savefig('../for_article/jasper_region_2_w_comp.pdf',)"
   ]
  },
  {
   "cell_type": "markdown",
   "metadata": {
    "collapsed": false,
    "pycharm": {
     "name": "#%% md\n"
    }
   },
   "source": [
    "## jasper full (100x100)"
   ]
  },
  {
   "cell_type": "code",
   "execution_count": null,
   "metadata": {},
   "outputs": [],
   "source": [
    "data_filepath = '../datasets/jasper_full.npz'\n",
    "ini_filepath = '../saved_models/jasper_full/r{}_ini.npz'"
   ]
  },
  {
   "cell_type": "code",
   "execution_count": null,
   "metadata": {},
   "outputs": [],
   "source": [
    "M = np.load(data_filepath)['X']\n",
    "M = M.astype(np.float64)\n",
    "m, n = M.shape\n",
    "\n",
    "r = 20\n",
    "_lam = 1000000\n",
    "_gamma = 1000000\n",
    "max_iters = 1000"
   ]
  },
  {
   "cell_type": "code",
   "execution_count": null,
   "metadata": {},
   "outputs": [],
   "source": [
    "ini_filepath = '../saved_models/jasper_full/r{}_ini.npz'\n",
    "if os.path.exists(ini_filepath.format(r)):\n",
    "    data = np.load(ini_filepath.format(r))\n",
    "    ini_W = data['ini_W']\n",
    "    ini_H = data['ini_H']\n",
    "else:\n",
    "    ini_W = np.random.rand(m, r)\n",
    "    ini_H = np.random.rand(r, n)\n",
    "    with open(ini_filepath.format(r), 'wb') as fout:\n",
    "        np.savez_compressed(fout, ini_W=ini_W, ini_H=ini_H)"
   ]
  },
  {
   "cell_type": "code",
   "execution_count": null,
   "metadata": {
    "collapsed": false,
    "pycharm": {
     "name": "#%%\n"
    }
   },
   "outputs": [],
   "source": [
    "W, H, fscores, gscores, hscores, total_scores = load_results(f'../saved_models/jasper_full/r{r}_l{_lam}_g{_gamma}_it{max_iters}.npz')"
   ]
  },
  {
   "cell_type": "code",
   "execution_count": null,
   "metadata": {
    "collapsed": false,
    "pycharm": {
     "name": "#%%\n"
    }
   },
   "outputs": [],
   "source": [
    "unique_idxs = [6, 8, 14]\n",
    "other_idxs = [x for x in range(r) if x not in unique_idxs]"
   ]
  },
  {
   "cell_type": "code",
   "execution_count": null,
   "metadata": {},
   "outputs": [],
   "source": [
    "# Energy calculations (%)\n",
    "unique_labels = ['water', 'tree', 'soil']\n",
    "for i in range(len(unique_idxs)):\n",
    "    print(unique_labels[i], (np.linalg.norm(W[:, unique_idxs[i]:unique_idxs[i]+1] @ H[unique_idxs[i]:unique_idxs[i]+1, :], 'fro') / np.linalg.norm(M, 'fro')) * 100)"
   ]
  },
  {
   "cell_type": "code",
   "execution_count": null,
   "metadata": {
    "collapsed": false,
    "pycharm": {
     "name": "#%%\n"
    }
   },
   "outputs": [],
   "source": [
    "wmin, wmax = np.min(W), np.max(W)\n",
    "\n",
    "\n",
    "fig, axs = plt.subplots(1, len(unique_idxs) + 1, figsize=(12, 3), sharex=True, sharey=True)\n",
    "axs = axs.ravel()\n",
    "\n",
    "\n",
    "for cnt, ax in enumerate(axs):\n",
    "    if cnt == 0:\n",
    "        ax.set_ylabel('Reflectance')\n",
    "    ax.set_xlabel('Bands')\n",
    "    ax.set_ylim([min(0, wmin), wmax])\n",
    "    ax.grid(which='both', linewidth=0.5, color='lightgrey')\n",
    "\n",
    "\n",
    "for ax_idx, w_idx in enumerate(unique_idxs):\n",
    "    axs[ax_idx].plot(W[:, w_idx], linewidth=2)\n",
    "    axs[ax_idx].set_title(f'$w_{{{w_idx + 1}}}$', fontsize=14, x=0.92, y=0.87) # indexing from 1\n",
    "\n",
    "axs[-1].plot(W[:, other_idxs], linewidth=0.5)\n",
    "axs[-1].set_title('$w_{{other}}}$', fontsize=14, x=0.88, y=0.87)\n",
    "\n",
    "plt.tight_layout()\n",
    "# plt.savefig('../for_article/jasper_full_w_overlapped.pdf')"
   ]
  },
  {
   "cell_type": "code",
   "execution_count": null,
   "metadata": {
    "collapsed": false,
    "pycharm": {
     "name": "#%%\n"
    }
   },
   "outputs": [],
   "source": [
    "newH = np.vstack((H[unique_idxs, :], H[other_idxs, :].sum(axis=0)))\n",
    "newH3d = newH.reshape(-1, 100, 100, order='F')\n",
    "large_mat = np.hstack(newH3d)\n",
    "\n",
    "fig, ax = plt.subplots(figsize=(12, 3))\n",
    "img = ax.imshow(large_mat, cmap='gray')\n",
    "divider = make_axes_locatable(ax)\n",
    "cax = divider.append_axes('right', size='3%', pad=0.1)\n",
    "fig.colorbar(img, cax=cax, orientation='vertical')\n",
    "ax.set_xticks([])\n",
    "ax.set_yticks([])\n",
    "\n",
    "# plt.savefig('../for_article/jasper_full_h_summed.pdf', bbox_inches='tight')"
   ]
  },
  {
   "cell_type": "code",
   "execution_count": null,
   "metadata": {},
   "outputs": [],
   "source": [
    "# model = NMF(init='custom', n_components=r, random_state=42, max_iter=max_iters)\n",
    "# W_NMF = model.fit_transform(X=M, W=ini_W.copy(), H=ini_H.copy())\n",
    "# H_NMF = model.components_\n",
    "# with open(f'../saved_models/jasper_full/vanilla_r{r}.npz', 'wb') as fout:\n",
    "#     np.savez_compressed(fout, W=W_NMF, H=H_NMF)"
   ]
  },
  {
   "cell_type": "code",
   "execution_count": null,
   "metadata": {},
   "outputs": [],
   "source": [
    "data = np.load(f'../saved_models/jasper_full/vanilla_r{r}.npz')\n",
    "W_NMF = data['W']\n",
    "H_NMF = data['H']\n",
    "fns = ['../images/tmp_w.jpg', '../images/tmp_seph.jpg', '../images/tmp_combh.jpg', '../for_article/jasper_vanilla.pdf']\n",
    "plot_and_merge(W_NMF, H_NMF, (100, 100), (33, 6), 16, fns, 2, delete=True)\n"
   ]
  },
  {
   "cell_type": "markdown",
   "metadata": {},
   "source": [
    "## urban full (307x307)"
   ]
  },
  {
   "cell_type": "code",
   "execution_count": null,
   "metadata": {},
   "outputs": [],
   "source": [
    "data_filepath = '../datasets/urban_full.npz'\n",
    "ini_filepath = '../saved_models/urban_full/r{}_ini.npz'"
   ]
  },
  {
   "cell_type": "code",
   "execution_count": null,
   "metadata": {},
   "outputs": [],
   "source": [
    "M = np.load(data_filepath)['X']\n",
    "M = M.astype(np.float64)\n",
    "m, n = M.shape\n",
    "\n",
    "r = 20\n",
    "_lam = 1000000\n",
    "_gamma = 1000000\n",
    "max_iters = 1000"
   ]
  },
  {
   "cell_type": "code",
   "execution_count": null,
   "metadata": {},
   "outputs": [],
   "source": [
    "ini_filepath = '../saved_models/urban_full/r{}_ini.npz'\n",
    "if os.path.exists(ini_filepath.format(r)):\n",
    "    data = np.load(ini_filepath.format(r))\n",
    "    ini_W = data['ini_W']\n",
    "    ini_H = data['ini_H']\n",
    "else:\n",
    "    ini_W = np.random.rand(m, r)\n",
    "    ini_H = np.random.rand(r, n)\n",
    "    with open(ini_filepath.format(r), 'wb') as fout:\n",
    "        np.savez_compressed(fout, ini_W=ini_W, ini_H=ini_H)"
   ]
  },
  {
   "cell_type": "code",
   "execution_count": null,
   "metadata": {},
   "outputs": [],
   "source": [
    "W, H, fscores, gscores, hscores, total_scores = load_results(f'../saved_models/urban_full/r{r}_l{_lam}_g{_gamma}_it{max_iters}.npz')"
   ]
  },
  {
   "cell_type": "code",
   "execution_count": null,
   "metadata": {},
   "outputs": [],
   "source": [
    "unique_idxs = [5, 7, 13, 15]\n",
    "other_idxs = [x for x in range(r) if x not in unique_idxs]"
   ]
  },
  {
   "cell_type": "code",
   "execution_count": null,
   "metadata": {},
   "outputs": [],
   "source": [
    "wmin, wmax = np.min(W), np.max(W)\n",
    "\n",
    "\n",
    "fig, axs = plt.subplots(1, len(unique_idxs) + 1, figsize=(15, 3), sharex=True, sharey=True)\n",
    "axs = axs.ravel()\n",
    "\n",
    "\n",
    "for cnt, ax in enumerate(axs):\n",
    "    if cnt == 0:\n",
    "        ax.set_ylabel('Reflectance')\n",
    "    ax.set_xlabel('Bands')\n",
    "    ax.set_ylim([min(0, wmin), wmax])\n",
    "    ax.grid(which='both', linewidth=0.5, color='lightgrey')\n",
    "\n",
    "\n",
    "for ax_idx, w_idx in enumerate(unique_idxs):\n",
    "    axs[ax_idx].plot(W[:, w_idx], linewidth=2)\n",
    "    axs[ax_idx].set_title(f'$w_{{{w_idx + 1}}}$', fontsize=14, x=0.1, y=0.87) # indexing from 1\n",
    "\n",
    "axs[-1].plot(W[:, other_idxs], linewidth=0.5)\n",
    "axs[-1].set_title('$w_{{other}}$', fontsize=14, x=0.15, y=0.87)\n",
    "\n",
    "plt.tight_layout()\n",
    "# plt.savefig('../for_article/urban_full_w_overlapped.pdf')"
   ]
  },
  {
   "cell_type": "code",
   "execution_count": null,
   "metadata": {},
   "outputs": [],
   "source": [
    "newH = np.vstack((H[unique_idxs, :], H[other_idxs, :].sum(axis=0)))\n",
    "newH3d = newH.reshape(-1, 307, 307, order='F')\n",
    "large_mat = np.hstack(newH3d)\n",
    "\n",
    "fig, ax = plt.subplots(figsize=(15, 3))\n",
    "img = ax.imshow(large_mat, cmap='gray')\n",
    "divider = make_axes_locatable(ax)\n",
    "cax = divider.append_axes('right', size='3%', pad=0.1)\n",
    "fig.colorbar(img, cax=cax, orientation='vertical')\n",
    "ax.set_xticks([])\n",
    "ax.set_yticks([])\n",
    "\n",
    "# plt.savefig('../for_article/urban_full_h_summed.pdf', bbox_inches='tight')"
   ]
  },
  {
   "cell_type": "code",
   "execution_count": null,
   "metadata": {},
   "outputs": [],
   "source": [
    "# model = NMF(init='custom', n_components=r, random_state=42, max_iter=max_iters)\n",
    "# W_NMF = model.fit_transform(X=M, W=ini_W.copy(), H=ini_H.copy())\n",
    "# H_NMF = model.components_\n",
    "# with open(f'../saved_models/urban_full/vanilla_r{r}.npz', 'wb') as fout:\n",
    "#     np.savez_compressed(fout, W=W_NMF, H=H_NMF)"
   ]
  },
  {
   "cell_type": "code",
   "execution_count": null,
   "metadata": {},
   "outputs": [],
   "source": [
    "data = np.load(f'../saved_models/urban_full/vanilla_r{r}.npz')\n",
    "W_NMF = data['W']\n",
    "H_NMF = data['H']\n",
    "fns = ['../images/tmp_w.jpg', '../images/tmp_seph.jpg', '../images/tmp_combh.jpg', '../for_article/urban_vanilla.pdf']\n",
    "plot_and_merge(W_NMF, H_NMF, (307, 307), (33, 6), 16, fns, 2, delete=True)\n"
   ]
  },
  {
   "cell_type": "markdown",
   "metadata": {},
   "source": [
    "## swimmer (256x220)"
   ]
  },
  {
   "cell_type": "code",
   "execution_count": null,
   "metadata": {},
   "outputs": [],
   "source": [
    "data_filepath = '../datasets/swimmer.npz'\n",
    "ini_filepath = '../saved_models/swimmer/r{}_ini.npz'"
   ]
  },
  {
   "cell_type": "code",
   "execution_count": null,
   "metadata": {},
   "outputs": [],
   "source": [
    "M = np.load(data_filepath)['X']\n",
    "M = M.astype(np.float64)\n",
    "m, n = M.shape\n",
    "\n",
    "r = 50\n",
    "_lam = 0.5\n",
    "_gamma = 10\n",
    "max_iters = 1000"
   ]
  },
  {
   "cell_type": "code",
   "execution_count": null,
   "metadata": {},
   "outputs": [],
   "source": [
    "if os.path.exists(ini_filepath.format(r)):\n",
    "    data = np.load(ini_filepath.format(r))\n",
    "    ini_W = data['ini_W']\n",
    "    ini_H = data['ini_H']\n",
    "else:\n",
    "    ini_W = np.random.rand(m, r)\n",
    "    ini_H = np.random.rand(r, n)\n",
    "    with open(ini_filepath.format(r), 'wb') as fout:\n",
    "        np.savez_compressed(fout, ini_W=ini_W, ini_H=ini_H)"
   ]
  },
  {
   "cell_type": "code",
   "execution_count": null,
   "metadata": {},
   "outputs": [],
   "source": [
    "W, H, fscores, gscores, hscores, total_scores = load_results(f'../saved_models/swimmer/r{r}_l{_lam}_g{_gamma}_it{max_iters}.npz')"
   ]
  },
  {
   "cell_type": "code",
   "execution_count": null,
   "metadata": {},
   "outputs": [],
   "source": [
    "unique_idxs = [ 8,  0, 21, 33, 10, 44, 47, 12, 38, 16, 42, 18, 31, 17, 48, 14,  2]\n",
    "# unique_idxs.sort()\n",
    "other_idxs = [x for x in range(r) if x not in unique_idxs]\n"
   ]
  },
  {
   "cell_type": "code",
   "execution_count": null,
   "metadata": {},
   "outputs": [],
   "source": [
    "wmin, wmax = np.min(W), np.max(W)\n",
    "\n",
    "num_rows = 3\n",
    "num_cols = len(unique_idxs) // num_rows + 1  # Calculate the number of columns needed\n",
    "fig, axs = plt.subplots(num_rows, num_cols, figsize=(20, 8), sharex=True, sharey=True)\n",
    "\n",
    "axs = axs.ravel()\n",
    "\n",
    "for cnt, ax in enumerate(axs):\n",
    "    if cnt == 0 or cnt == num_cols:\n",
    "        ax.set_ylabel('Reflectance')\n",
    "    ax.set_xlabel('Bands')\n",
    "    ax.set_ylim([min(0, wmin), wmax])\n",
    "    ax.grid(which='both', linewidth=0.5, color='lightgrey')\n",
    "\n",
    "for ax_idx, w_idx in enumerate(unique_idxs):\n",
    "    row = ax_idx // num_cols \n",
    "    axs[ax_idx].plot(W[:, w_idx], linewidth=2)\n",
    "    axs[ax_idx].set_title(f'$w_{{{w_idx + 1}}}$', fontsize=14, x=0.1, y=0.87) # indexing from 1\n",
    "\n",
    "axs[-1].plot(W[:, other_idxs], linewidth=0.5)\n",
    "axs[-1].set_title('$w_{other}$', fontsize=14, x=0.15, y=0.87)\n",
    "\n",
    "plt.tight_layout()\n",
    "plt.savefig('../for_article/swimmer_full_w_overlapped.pdf')"
   ]
  },
  {
   "cell_type": "code",
   "execution_count": null,
   "metadata": {},
   "outputs": [],
   "source": [
    "num_rows = 2\n",
    "num_cols = len(unique_idxs) // num_rows + 1 \n",
    "fig, axs = plt.subplots(num_rows, num_cols, figsize=(18, 5))\n",
    "\n",
    "H3d = H.reshape(-1, 20, 11, order='F')\n",
    "\n",
    "axs = axs.ravel()\n",
    "\n",
    "for ax_idx, w_idx in enumerate(unique_idxs):\n",
    "    row = ax_idx // num_cols  \n",
    "    img = axs[ax_idx].imshow(H3d[w_idx, :, :], cmap='gray')\n",
    "    # img = axs[ax_idx].imshow(H3d[w_idx, :, :])\n",
    "    axs[ax_idx].set_title(f'$h^{{{w_idx + 1}}}$', fontsize=14) # indexing from 1\n",
    "\n",
    "    divider = make_axes_locatable(axs[ax_idx])\n",
    "    cax = divider.append_axes('right', size='5%', pad=0.1)\n",
    "    fig.colorbar(img, cax=cax, orientation='vertical')\n",
    "    axs[ax_idx].axis('off')\n",
    "    \n",
    "    \n",
    "\n",
    "img = axs[-1].imshow(H3d[other_idxs, :, :].sum(axis=0), cmap='gray')\n",
    "# img = axs[-1].imshow(H3d[other_idxs, :, :].sum(axis=0))\n",
    "axs[-1].set_title('$h^{other}$', fontsize=14)\n",
    "divider = make_axes_locatable(axs[-1])\n",
    "cax = divider.append_axes('right', size='5%', pad=0.1)\n",
    "fig.colorbar(img, cax=cax, orientation='vertical')\n",
    "axs[-1].set_xticks([])\n",
    "axs[-1].set_yticks([])\n",
    "\n",
    "# plt.tight_layout()\n",
    "plt.savefig('../for_article/swimmer_full_h_summed.pdf', bbox_inches='tight')"
   ]
  },
  {
   "cell_type": "code",
   "execution_count": null,
   "metadata": {},
   "outputs": [],
   "source": [
    "# model = NMF(init='custom', n_components=r, random_state=42, max_iter=max_iters)\n",
    "# W_NMF = model.fit_transform(X=M, W=ini_W.copy(), H=ini_H.copy())\n",
    "# H_NMF = model.components_\n",
    "# with open(f'../saved_models/swimmer/vanilla_r{r}.npz', 'wb') as fout:\n",
    "#     np.savez_compressed(fout, W=W_NMF, H=H_NMF)"
   ]
  },
  {
   "cell_type": "code",
   "execution_count": null,
   "metadata": {},
   "outputs": [],
   "source": [
    "data = np.load(f'../saved_models/swimmer/vanilla_r{r}.npz')\n",
    "W_NMF = data['W']\n",
    "H_NMF = data['H']\n",
    "fns = ['../images/tmp_w.jpg', '../images/tmp_seph.jpg', '../images/tmp_combh.jpg', '../for_article/swimmer_vanilla.pdf']\n",
    "plot_and_merge(W_NMF, H_NMF, (20, 11), (16, 10), 16, fns, 5, delete=True)\n"
   ]
  },
  {
   "cell_type": "code",
   "execution_count": null,
   "metadata": {},
   "outputs": [],
   "source": [
    "num_rows = 3\n",
    "num_cols = 9\n",
    "fig, axs = plt.subplots(num_rows, num_cols, figsize=(20, 9))\n",
    "\n",
    "M3d = M.reshape(-1, 20, 11, order='F')\n",
    "H3d = H.reshape(-1, 20, 11, order='F')\n",
    "H_NMF3d = H_NMF.reshape(-1, 20, 11, order='F')\n",
    "\n",
    "axs = axs.ravel()\n",
    "\n",
    "for ax_idx in range(5):\n",
    "    img = axs[ax_idx].imshow(M3d[ax_idx, :, :], cmap='gray')\n",
    "    axs[ax_idx].set_title(f'$m_{{{ax_idx + 1}}}$', fontsize=14) # indexing from 1\n",
    "\n",
    "    divider = make_axes_locatable(axs[ax_idx])\n",
    "    cax = divider.append_axes('right', size='5%', pad=0.1)\n",
    "    fig.colorbar(img, cax=cax, orientation='vertical')\n",
    "    axs[ax_idx].axis('off')\n",
    "\n",
    "\n",
    "axs[5].axis('off')\n",
    "\n",
    "for ax_idx, w_idx in enumerate([28, 43, 44]):\n",
    "    mod_ax_idx = ax_idx + 6\n",
    "\n",
    "    img = axs[mod_ax_idx].imshow(H_NMF3d[w_idx, :, :], cmap='gray')\n",
    "    # img = axs[ax_idx].imshow(H3d[w_idx, :, :])\n",
    "    axs[mod_ax_idx].set_title(f'$h^{{{w_idx + 1}_O}}$', fontsize=14) # indexing from 1\n",
    "\n",
    "    divider = make_axes_locatable(axs[mod_ax_idx])\n",
    "    cax = divider.append_axes('right', size='5%', pad=0.1)\n",
    "    fig.colorbar(img, cax=cax, orientation='vertical')\n",
    "    axs[mod_ax_idx].axis('off')\n",
    "\n",
    "\n",
    "for ax_idx, w_idx in enumerate(unique_idxs):\n",
    "    mod_ax_idx = ax_idx + 9\n",
    "\n",
    "    img = axs[mod_ax_idx].imshow(H3d[w_idx, :, :], cmap='gray')\n",
    "    # img = axs[ax_idx].imshow(H3d[w_idx, :, :])\n",
    "    axs[mod_ax_idx].set_title(f'$h^{{{w_idx + 1}}}$', fontsize=14) # indexing from 1\n",
    "\n",
    "    divider = make_axes_locatable(axs[mod_ax_idx])\n",
    "    cax = divider.append_axes('right', size='5%', pad=0.1)\n",
    "    fig.colorbar(img, cax=cax, orientation='vertical')\n",
    "    axs[mod_ax_idx].axis('off')\n",
    "    \n",
    "    \n",
    "\n",
    "img = axs[-1].imshow(H3d[other_idxs, :, :].sum(axis=0), cmap='gray')\n",
    "# img = axs[-1].imshow(H3d[other_idxs, :, :].sum(axis=0))\n",
    "axs[-1].set_title('$h^{other}$', fontsize=14)\n",
    "divider = make_axes_locatable(axs[-1])\n",
    "cax = divider.append_axes('right', size='5%', pad=0.1)\n",
    "fig.colorbar(img, cax=cax, orientation='vertical')\n",
    "axs[-1].set_xticks([])\n",
    "axs[-1].set_yticks([])\n",
    "\n",
    "# plt.tight_layout()\n",
    "plt.savefig('../for_article/swimmer_lrg.pdf', bbox_inches='tight')"
   ]
  },
  {
   "cell_type": "markdown",
   "metadata": {},
   "source": [
    "## CBCL (m = 200)"
   ]
  },
  {
   "cell_type": "code",
   "execution_count": null,
   "metadata": {},
   "outputs": [],
   "source": [
    "data_filepath = '../datasets/cbcl_small.npz'\n",
    "ini_filepath = '../saved_models/cbcl_small/r{}_ini.npz'"
   ]
  },
  {
   "cell_type": "code",
   "execution_count": null,
   "metadata": {},
   "outputs": [],
   "source": [
    "M = np.load(data_filepath)['X']\n",
    "M = M.astype(np.float64)\n",
    "m, n = M.shape\n",
    "\n",
    "r = 49\n",
    "_lam = 0.001\n",
    "_gamma = 1\n",
    "max_iters = 1000"
   ]
  },
  {
   "cell_type": "code",
   "execution_count": null,
   "metadata": {},
   "outputs": [],
   "source": [
    "W, H, fscores, gscores, hscores, total_scores = load_results(f'../saved_models/cbcl_small/r{r}_l{_lam}_g{_gamma}_it{max_iters}.npz')"
   ]
  },
  {
   "cell_type": "code",
   "execution_count": null,
   "metadata": {},
   "outputs": [],
   "source": [
    "unique_idxs = [1, 10, 15, 16, 22, 23, 25, 32, 36, 47, 48]\n",
    "other_idxs = [x for x in range(r) if x not in unique_idxs]"
   ]
  },
  {
   "cell_type": "code",
   "execution_count": null,
   "metadata": {},
   "outputs": [],
   "source": [
    "wmin, wmax = np.min(W), np.max(W)\n",
    "\n",
    "\n",
    "fig, axs = plt.subplots(2, (len(unique_idxs) + 1) // 2, figsize=(15, 5), sharex=True, sharey=True)\n",
    "axs = axs.ravel()\n",
    "\n",
    "\n",
    "for cnt, ax in enumerate(axs):\n",
    "    if cnt == 0:\n",
    "        ax.set_ylabel('Reflectance')\n",
    "    ax.set_xlabel('Bands')\n",
    "    ax.set_ylim([min(0, wmin), wmax])\n",
    "    ax.grid(which='both', linewidth=0.5, color='lightgrey')\n",
    "\n",
    "\n",
    "for ax_idx, w_idx in enumerate(unique_idxs):\n",
    "    axs[ax_idx].plot(W[:, w_idx], linewidth=2)\n",
    "    axs[ax_idx].set_title(f'$w_{{{ax_idx + 1}}}$', fontsize=14, x=0.1, y=0.87) # indexing from 1\n",
    "\n",
    "axs[-1].plot(W[:, other_idxs], linewidth=0.5)\n",
    "axs[-1].set_title('$w_{{other}}$', fontsize=14, x=0.15, y=0.87)\n",
    "\n",
    "plt.tight_layout()\n",
    "plt.savefig('../for_article/cbcl_small_full_w_overlapped.pdf')"
   ]
  },
  {
   "cell_type": "code",
   "execution_count": null,
   "metadata": {},
   "outputs": [],
   "source": [
    "H3d = H.reshape(-1, 19, 19, order='F')\n",
    "\n",
    "\n",
    "fig, axs = plt.subplots(2, (len(unique_idxs) + 1) // 2, figsize=(22, 6), sharex=True, sharey=True)\n",
    "axs = axs.ravel()\n",
    "\n",
    "for ax_idx, w_idx in enumerate(unique_idxs):\n",
    "    img = axs[ax_idx].imshow(H3d[w_idx, :, :], cmap='gray_r')\n",
    "    axs[ax_idx].set_title(f'$h^{{{ax_idx + 1}}}$', fontsize=16)\n",
    "    axs[ax_idx].axis('off')\n",
    "    divider = make_axes_locatable(axs[ax_idx])\n",
    "    cax = divider.append_axes('right', size='5%', pad=0.1)\n",
    "    fig.colorbar(img, cax=cax, orientation='vertical')\n",
    "\n",
    "img = axs[-1].imshow(H3d[other_idxs, :, :].sum(axis=0), cmap='gray_r')\n",
    "axs[-1].set_title('$h^{{other}}$', fontsize=16)\n",
    "axs[-1].axis('off')\n",
    "divider = make_axes_locatable(axs[-1])\n",
    "cax = divider.append_axes('right', size='5%', pad=0.1)\n",
    "fig.colorbar(img, cax=cax, orientation='vertical')\n",
    "\n",
    "# plt.savefig('../for_article/cbcl_small_h_summed.pdf', bbox_inches='tight')"
   ]
  },
  {
   "cell_type": "code",
   "execution_count": null,
   "metadata": {},
   "outputs": [],
   "source": [
    "if os.path.exists(ini_filepath.format(r)):\n",
    "    data = np.load(ini_filepath.format(r))\n",
    "    ini_W = data['ini_W']\n",
    "    ini_H = data['ini_H']\n",
    "else:\n",
    "    ini_W = np.random.rand(m, r)\n",
    "    ini_H = np.random.rand(r, n)\n",
    "    with open(ini_filepath.format(r), 'wb') as fout:\n",
    "        np.savez_compressed(fout, ini_W=ini_W, ini_H=ini_H)"
   ]
  },
  {
   "cell_type": "code",
   "execution_count": null,
   "metadata": {},
   "outputs": [],
   "source": [
    "# model = NMF(init='custom', n_components=r, random_state=42, max_iter=max_iters)\n",
    "# W_NMF = model.fit_transform(X=M, W=ini_W.copy(), H=ini_H.copy())\n",
    "# H_NMF = model.components_\n",
    "# with open(f'../saved_models/cbcl_small/vanilla_r{r}.npz', 'wb') as fout:\n",
    "#     np.savez_compressed(fout, W=W_NMF, H=H_NMF)"
   ]
  },
  {
   "cell_type": "code",
   "execution_count": null,
   "metadata": {},
   "outputs": [],
   "source": [
    "data = np.load(f'../saved_models/cbcl_small/vanilla_r{r}.npz')\n",
    "W_NMF = data['W']\n",
    "H_NMF = data['H']\n",
    "# fns = ['../images/tmp_w.jpg', '../images/tmp_seph.jpg', '../images/tmp_combh.jpg', '../for_article/cbcl_small_vanilla.pdf']\n",
    "# plot_and_merge(W_NMF, H_NMF, (19, 19), (24, 24), 16, fns, 7, delete=True)"
   ]
  },
  {
   "cell_type": "code",
   "execution_count": null,
   "metadata": {},
   "outputs": [],
   "source": [
    "H_NMF3d = H_NMF.reshape(-1, 19, 19, order='F')\n",
    "\n",
    "\n",
    "fig, axs = plt.subplots(2, 6, figsize=(22, 6), sharex=True, sharey=True)\n",
    "axs = axs.ravel()\n",
    "\n",
    "for ax_idx in range(12):\n",
    "    img = axs[ax_idx].imshow(H_NMF3d[ax_idx, :, :], cmap='gray_r')\n",
    "    axs[ax_idx].set_title(f'$h^{{{ax_idx + 1}}}$', fontsize=16)\n",
    "    axs[ax_idx].axis('off')\n",
    "    divider = make_axes_locatable(axs[ax_idx])\n",
    "    cax = divider.append_axes('right', size='5%', pad=0.1)\n",
    "    fig.colorbar(img, cax=cax, orientation='vertical')\n",
    "\n",
    "plt.savefig('../for_article/cbcl_small_vanilla_2_row.pdf', bbox_inches='tight')"
   ]
  },
  {
   "cell_type": "code",
   "execution_count": null,
   "metadata": {},
   "outputs": [],
   "source": [
    "normH_NMF = H_NMF / H_NMF.sum(axis=0, keepdims=True)\n",
    "normH_NMF3d = normH_NMF.reshape(-1, 19, 19, order='F')\n",
    "\n",
    "fig, axs = plt.subplots(2, 6, figsize=(22, 6), sharex=True, sharey=True)\n",
    "axs = axs.ravel()\n",
    "\n",
    "for ax_idx in range(12):\n",
    "    img = axs[ax_idx].imshow(normH_NMF3d[ax_idx, :, :], cmap='gray_r')\n",
    "    axs[ax_idx].set_title(f'$h^{{{ax_idx + 1}}}$', fontsize=16)\n",
    "    axs[ax_idx].axis('off')\n",
    "    divider = make_axes_locatable(axs[ax_idx])\n",
    "    cax = divider.append_axes('right', size='5%', pad=0.1)\n",
    "    fig.colorbar(img, cax=cax, orientation='vertical')\n",
    "\n",
    "plt.savefig('../for_article/cbcl_small_vanilla_2_row_norm.pdf', bbox_inches='tight')"
   ]
  },
  {
   "cell_type": "code",
   "execution_count": null,
   "metadata": {},
   "outputs": [],
   "source": []
  }
 ],
 "metadata": {
  "kernelspec": {
   "display_name": "Python 3",
   "language": "python",
   "name": "python3"
  },
  "language_info": {
   "codemirror_mode": {
    "name": "ipython",
    "version": 3
   },
   "file_extension": ".py",
   "mimetype": "text/x-python",
   "name": "python",
   "nbconvert_exporter": "python",
   "pygments_lexer": "ipython3",
   "version": "3.10.11"
  }
 },
 "nbformat": 4,
 "nbformat_minor": 0
}
