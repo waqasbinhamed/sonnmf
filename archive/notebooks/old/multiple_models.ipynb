{
 "cells": [
  {
   "cell_type": "code",
   "execution_count": null,
   "metadata": {
    "pycharm": {
     "name": "#%%\n"
    }
   },
   "outputs": [],
   "source": [
    "import os\n",
    "import time\n",
    "import csv\n",
    "import numpy as np\n",
    "from sonnmf.main import base as sonnmf\n",
    "from sonnmf.utils import save_results"
   ]
  },
  {
   "cell_type": "code",
   "execution_count": null,
   "metadata": {
    "pycharm": {
     "name": "#%%\n"
    }
   },
   "outputs": [],
   "source": [
    "results_csv_fp = '../saved_models/multiple_models/output.csv'\n",
    "\n",
    "fieldnames = ['dataset', 'w_update_method', 'h_accelarated', 'time_taken', 'fscore', 'gscore', 'scaled_lambda']\n",
    "# with open(results_csv_fp, mode='w') as csv_file:\n",
    "#     writer = csv.DictWriter(csv_file, fieldnames=fieldnames)\n",
    "#     writer.writeheader()"
   ]
  },
  {
   "cell_type": "code",
   "execution_count": null,
   "metadata": {
    "pycharm": {
     "name": "#%%\n"
    }
   },
   "outputs": [],
   "source": [
    "# w_methods = ['proximal_averaging', 'without_nonneg_restriction', 'subgradient', 'nesterov_smoothing', 'admm']\n",
    "w_methods = ['admm']"
   ]
  },
  {
   "cell_type": "code",
   "execution_count": null,
   "metadata": {
    "pycharm": {
     "name": "#%%\n"
    }
   },
   "outputs": [],
   "source": [
    "M = np.load('../datasets/jasper_small_6.npz')['X']\n",
    "m, n = M.shape\n",
    "max_iters = 10000\n",
    "r = n\n",
    "_lam = 0.01"
   ]
  },
  {
   "cell_type": "code",
   "execution_count": null,
   "metadata": {
    "pycharm": {
     "name": "#%%\n"
    }
   },
   "outputs": [],
   "source": [
    "ini_filepath = f'../saved_models/multiple_models/small_6_r{r}_ini.npz'\n",
    "save_filepath = '../saved_models/multiple_models/small_6_r{}_l{}_mit{}_wm_{}_ha{}.npz'\n",
    "\n",
    "if os.path.exists(ini_filepath):\n",
    "    data = np.load(ini_filepath)\n",
    "    ini_W = data['ini_W']\n",
    "    ini_H = data['ini_H']\n",
    "else:\n",
    "    ini_W = np.random.rand(m, r)\n",
    "    ini_H = np.random.rand(r, n)\n",
    "    with open(ini_filepath.format(r), 'wb') as fout:\n",
    "        np.savez_compressed(fout, ini_W=ini_W, ini_H=ini_H)"
   ]
  },
  {
   "cell_type": "code",
   "execution_count": null,
   "metadata": {
    "pycharm": {
     "name": "#%%\n"
    }
   },
   "outputs": [],
   "source": [
    "for w_method in w_methods:\n",
    "    for h_acc in [False, True]:\n",
    "        start_time = time.time()\n",
    "        W, H, fscores, gscores, lvals = sonnmf(M, ini_W.copy(), ini_H.copy(), lam=_lam, \n",
    "                                               w_update_method=w_method, h_update_accelarated=h_acc, itermax=max_iters, early_stop=True, verbose=True, scale_reg=True)\n",
    "        time_taken = time.time() - start_time\n",
    "        save_results(save_filepath.format(r, _lam, max_iters, w_method, int(h_acc)), W, H, fscores, gscores, lvals)\n",
    "        \n",
    "        # with open(results_csv_fp, 'a') as csv_file:\n",
    "        #     writer = csv.DictWriter(csv_file, fieldnames=fieldnames)\n",
    "        #     writer.writerow({'dataset': 'small_6',\n",
    "        #                     'w_update_method': w_method,\n",
    "        #                     'h_accelarated': int(h_acc),\n",
    "        #                     'time_taken': time_taken,\n",
    "        #                     'fscore': fscores[-1],\n",
    "        #                     'gscore': gscores[-1],\n",
    "        #                     'scaled_lambda': lvals[-2]})"
   ]
  },
  {
   "cell_type": "code",
   "execution_count": null,
   "metadata": {
    "pycharm": {
     "name": "#%%\n"
    }
   },
   "outputs": [],
   "source": []
  },
  {
   "cell_type": "code",
   "execution_count": null,
   "metadata": {
    "pycharm": {
     "name": "#%%\n"
    }
   },
   "outputs": [],
   "source": [
    "M = np.load('../datasets/jasper_small_2.npz')['X']\n",
    "m, n = M.shape\n",
    "max_iters = 10000\n",
    "r = n\n",
    "_lam = 100000"
   ]
  },
  {
   "cell_type": "code",
   "execution_count": null,
   "metadata": {
    "pycharm": {
     "name": "#%%\n"
    }
   },
   "outputs": [],
   "source": [
    "w_methods = ['without_nonneg_restriction', 'nesterov_smoothing', 'admm']"
   ]
  },
  {
   "cell_type": "code",
   "execution_count": null,
   "metadata": {
    "pycharm": {
     "name": "#%%\n"
    }
   },
   "outputs": [],
   "source": [
    "ini_filepath = f'../saved_models/multiple_models/small_2_r{r}_ini.npz'\n",
    "save_filepath = '../saved_models/multiple_models/small_2_r{}_l{}_mit{}_wm_{}_ha{}.npz'\n",
    "\n",
    "if os.path.exists(ini_filepath):\n",
    "    data = np.load(ini_filepath)\n",
    "    ini_W = data['ini_W']\n",
    "    ini_H = data['ini_H']\n",
    "else:\n",
    "    ini_W = np.random.rand(m, r)\n",
    "    ini_H = np.random.rand(r, n)\n",
    "    with open(ini_filepath.format(r), 'wb') as fout:\n",
    "        np.savez_compressed(fout, ini_W=ini_W, ini_H=ini_H)"
   ]
  },
  {
   "cell_type": "code",
   "execution_count": null,
   "metadata": {
    "pycharm": {
     "name": "#%%\n"
    }
   },
   "outputs": [],
   "source": [
    "for w_method in w_methods[2:]:\n",
    "    for h_acc in [False, True]:\n",
    "        start_time = time.time()\n",
    "        W, H, fscores, gscores, lvals = sonnmf(M, ini_W.copy(), ini_H.copy(), lam=_lam, \n",
    "                                               w_update_method=w_method, h_update_accelarated=h_acc, itermax=max_iters, early_stop=True, verbose=False, scale_reg=True)\n",
    "        time_taken = time.time() - start_time\n",
    "        save_results(save_filepath.format(r, _lam, max_iters, w_method, int(h_acc)), W, H, fscores, gscores, lvals)\n",
    "        \n",
    "        with open(results_csv_fp, 'a') as csv_file:\n",
    "            writer = csv.DictWriter(csv_file, fieldnames=fieldnames)\n",
    "            writer.writerow({'dataset': 'small_2',\n",
    "                            'w_update_method': w_method,\n",
    "                            'h_accelarated': int(h_acc),\n",
    "                            'time_taken': time_taken,\n",
    "                            'fscore': fscores[-1],\n",
    "                            'gscore': gscores[-1],\n",
    "                            'scaled_lambda': lvals[-2]})"
   ]
  },
  {
   "cell_type": "code",
   "execution_count": null,
   "metadata": {
    "pycharm": {
     "name": "#%%\n"
    }
   },
   "outputs": [],
   "source": [
    "M = np.load('../datasets/jasper_full.npz')['X']\n",
    "m, n = M.shape\n",
    "max_iters = 10000\n",
    "r = 20\n",
    "_lam = 750"
   ]
  },
  {
   "cell_type": "code",
   "execution_count": null,
   "metadata": {
    "pycharm": {
     "name": "#%%\n"
    }
   },
   "outputs": [],
   "source": [
    "w_methods = ['proximal_averaging', 'without_nonneg_restriction', 'subgradient', 'nesterov_smoothing', 'admm']"
   ]
  },
  {
   "cell_type": "code",
   "execution_count": null,
   "metadata": {
    "pycharm": {
     "name": "#%%\n"
    }
   },
   "outputs": [],
   "source": [
    "ini_filepath = f'../saved_models/multiple_models/full_r{r}_ini.npz'\n",
    "save_filepath = '../saved_models/multiple_models/full_r{}_l{}_mit{}_wm_{}_ha{}.npz'\n",
    "\n",
    "if os.path.exists(ini_filepath):\n",
    "    data = np.load(ini_filepath)\n",
    "    ini_W = data['ini_W']\n",
    "    ini_H = data['ini_H']\n",
    "else:\n",
    "    ini_W = np.random.rand(m, r)\n",
    "    ini_H = np.random.rand(r, n)\n",
    "    with open(ini_filepath.format(r), 'wb') as fout:\n",
    "        np.savez_compressed(fout, ini_W=ini_W, ini_H=ini_H)"
   ]
  },
  {
   "cell_type": "code",
   "execution_count": null,
   "metadata": {
    "pycharm": {
     "name": "#%%\n"
    }
   },
   "outputs": [],
   "source": [
    "for w_method in w_methods:\n",
    "    for h_acc in [False, True]:\n",
    "        start_time = time.time()\n",
    "        W, H, fscores, gscores, lvals = sonnmf(M, ini_W.copy(), ini_H.copy(), lam=_lam, \n",
    "                                               w_update_method=w_method, h_update_accelarated=h_acc, itermax=max_iters, early_stop=True, verbose=False, scale_reg=True)\n",
    "        time_taken = time.time() - start_time\n",
    "        save_results(save_filepath.format(r, _lam, max_iters, w_method, int(h_acc)), W, H, fscores, gscores, lvals)\n",
    "        \n",
    "        with open(results_csv_fp, 'a') as csv_file:\n",
    "            writer = csv.DictWriter(csv_file, fieldnames=fieldnames)\n",
    "            writer.writerow({'dataset': 'full',\n",
    "                            'w_update_method': w_method,\n",
    "                            'h_accelarated': int(h_acc),\n",
    "                            'time_taken': time_taken,\n",
    "                            'fscore': fscores[-1],\n",
    "                            'gscore': gscores[-1],\n",
    "                            'scaled_lambda': lvals[-2]})"
   ]
  },
  {
   "cell_type": "code",
   "execution_count": null,
   "outputs": [],
   "source": [],
   "metadata": {
    "collapsed": false,
    "pycharm": {
     "name": "#%%\n"
    }
   }
  },
  {
   "cell_type": "code",
   "execution_count": null,
   "outputs": [],
   "source": [],
   "metadata": {
    "collapsed": false,
    "pycharm": {
     "name": "#%%\n"
    }
   }
  }
 ],
 "metadata": {
  "kernelspec": {
   "display_name": "research",
   "language": "python",
   "name": "python3"
  },
  "language_info": {
   "codemirror_mode": {
    "name": "ipython",
    "version": 3
   },
   "file_extension": ".py",
   "mimetype": "text/x-python",
   "name": "python",
   "nbconvert_exporter": "python",
   "pygments_lexer": "ipython3",
   "version": "3.10.8"
  },
  "orig_nbformat": 4
 },
 "nbformat": 4,
 "nbformat_minor": 2
}