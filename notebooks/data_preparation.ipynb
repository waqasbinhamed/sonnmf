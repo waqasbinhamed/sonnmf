{
 "cells": [
  {
   "cell_type": "markdown",
   "id": "5327d4f9",
   "metadata": {},
   "source": [
    "# Data Preparation: MATLAB to HDF5\n",
    "\n",
    "This notebook documents the process of preparing the datasets for SONNMF experiments, and saving them in the HDF5 format.\n",
    "\n",
    "**Transformations Applied**\n",
    "\n",
    "- **Jasper**: Transpose > Reshape to 2D > Remove negatives\n",
    "- **Swimmer**: Transpose  \n",
    "- **Urban**: No transformation required\n",
    "\n",
    "All datasets are standardized to (features × samples) orientation for NMF analysis."
   ]
  },
  {
   "cell_type": "code",
   "execution_count": 1,
   "id": "721f4a0c",
   "metadata": {},
   "outputs": [],
   "source": [
    "import os\n",
    "import numpy as np\n",
    "import scipy.io\n",
    "from utils import save_h5\n",
    "\n",
    "datasets_path = '../datasets'"
   ]
  },
  {
   "cell_type": "code",
   "execution_count": 2,
   "id": "c0f77001",
   "metadata": {},
   "outputs": [],
   "source": [
    "def load_matlab_file(filepath):\n",
    "    \"\"\"Load MATLAB file and return the data dictionary.\"\"\"\n",
    "    data = scipy.io.loadmat(filepath)\n",
    "    return {k: v for k, v in data.items() if not k.startswith('__')}"
   ]
  },
  {
   "cell_type": "markdown",
   "id": "5f4e3c53",
   "metadata": {},
   "source": [
    "### 1. Urban Dataset"
   ]
  },
  {
   "cell_type": "code",
   "execution_count": 3,
   "id": "1adcd7f7",
   "metadata": {},
   "outputs": [
    {
     "name": "stdout",
     "output_type": "stream",
     "text": [
      "Urban dataset already exists in HDF5 format.\n"
     ]
    }
   ],
   "source": [
    "urban_mat = load_matlab_file(os.path.join(datasets_path, 'urban.mat'))\n",
    "\n",
    "if os.path.exists(os.path.join(datasets_path, 'urban.h5')):\n",
    "    print(\"Urban dataset already exists in HDF5 format.\")\n",
    "else:\n",
    "    print(\"Saving Urban dataset in HDF5 format...\")\n",
    "    save_h5(urban_mat, os.path.join(datasets_path, 'urban.h5'))\n"
   ]
  },
  {
   "cell_type": "markdown",
   "id": "480a4486",
   "metadata": {},
   "source": [
    "### 2. Swimmer Dataset"
   ]
  },
  {
   "cell_type": "code",
   "execution_count": 4,
   "id": "e8fde905",
   "metadata": {},
   "outputs": [
    {
     "name": "stdout",
     "output_type": "stream",
     "text": [
      "Swimmer dataset already exists in HDF5 format.\n"
     ]
    }
   ],
   "source": [
    "swimmer_mat = load_matlab_file(os.path.join(datasets_path, 'Swimmer.mat'))\n",
    "\n",
    "if os.path.exists(os.path.join(datasets_path, 'swimmer.h5')):\n",
    "    print(\"Swimmer dataset already exists in HDF5 format.\")\n",
    "else:\n",
    "    print(\"Saving Swimmer dataset in HDF5 format...\")\n",
    "    swimmer_mat['X'] = swimmer_mat['X'].T\n",
    "    save_h5(swimmer_mat, os.path.join(datasets_path, 'swimmer.h5'))\n"
   ]
  },
  {
   "cell_type": "markdown",
   "id": "d6119a6c",
   "metadata": {},
   "source": [
    "## Jasper Dataset"
   ]
  },
  {
   "cell_type": "code",
   "execution_count": 5,
   "id": "0e189d3f",
   "metadata": {},
   "outputs": [
    {
     "name": "stdout",
     "output_type": "stream",
     "text": [
      "Jasper dataset already exists in HDF5 format.\n"
     ]
    }
   ],
   "source": [
    "jasper_mat = load_matlab_file(os.path.join(datasets_path, 'jasper.mat'))\n",
    "\n",
    "if os.path.exists(os.path.join(datasets_path, 'jasper.h5')):\n",
    "    print(\"Jasper dataset already exists in HDF5 format.\")\n",
    "else:\n",
    "    print(\"Saving Jasper dataset in HDF5 format...\")\n",
    "    jasper_mat['X'] = jasper_mat['X'].T\n",
    "    jasper_mat['X'] = jasper_mat['X'].reshape(jasper_mat['X'].shape[0], -1)\n",
    "    \n",
    "    print(f\"Before removing negatives: {np.sum(jasper_mat['X'] < 0)} negative values found.\")\n",
    "    print(f\"Proportion of negative values before removal: {100 * np.sum(jasper_mat['X'] < 0) / (jasper_mat['X'].shape[0] * jasper_mat['X'].shape[1]):.2f}%\")\n",
    "    # Remove negative values\n",
    "    jasper_mat['X'][jasper_mat['X'] < 0] = 0\n",
    "    save_h5(jasper_mat, os.path.join(datasets_path, 'jasper.h5'))"
   ]
  }
 ],
 "metadata": {
  "kernelspec": {
   "display_name": "venv",
   "language": "python",
   "name": "python3"
  },
  "language_info": {
   "codemirror_mode": {
    "name": "ipython",
    "version": 3
   },
   "file_extension": ".py",
   "mimetype": "text/x-python",
   "name": "python",
   "nbconvert_exporter": "python",
   "pygments_lexer": "ipython3",
   "version": "3.12.8"
  }
 },
 "nbformat": 4,
 "nbformat_minor": 5
}
