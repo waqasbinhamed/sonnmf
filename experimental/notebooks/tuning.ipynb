{
 "cells": [
  {
   "cell_type": "code",
   "execution_count": null,
   "outputs": [],
   "source": [
    "import os\n",
    "import numpy as np\n",
    "import matplotlib.pyplot as plt\n",
    "from sonnmf.main import sonnmf"
   ],
   "metadata": {
    "collapsed": false,
    "pycharm": {
     "name": "#%%\n"
    }
   }
  },
  {
   "cell_type": "code",
   "execution_count": null,
   "outputs": [],
   "source": [
    "def save_results(filepath, W, H, fscores, gscores, hscores, total_scores):\n",
    "    with open(filepath, 'wb') as fout:\n",
    "        np.savez_compressed(fout, W=W, H=H, fscores=fscores, gscores=gscores, hscores=hscores, total_scores=total_scores)\n",
    "\n",
    "def load_results(filepath):\n",
    "    data = np.load(filepath)\n",
    "    return data['W'], data['H'], data['fscores'], data['gscores'], data['hscores'], data['total_scores']\n",
    "\n",
    "def plot_3d(X, Wt, W, filepath):\n",
    "    fig = plt.figure()\n",
    "    ax = fig.add_subplot(111, projection='3d')\n",
    "    ax.scatter(X[0, :], X[1, :], X[2, :], c='lightblue', marker='o')\n",
    "    ax.scatter(Wt[0, :], Wt[1, :], Wt[2, :], c='red', marker='o', s=144)\n",
    "    ax.scatter(W[0, :], W[1, :], W[2, :], c='black', marker='x', s=144)\n",
    "    ax.set_xlabel('X1')\n",
    "    ax.set_ylabel('X2')\n",
    "    ax.set_zlabel('X3')\n",
    "    ax.legend(['Data points', 'True W', 'Estimated W'])\n",
    "    ax.grid(True)\n",
    "    if filepath:\n",
    "        plt.savefig(filepath)\n",
    "    else:\n",
    "        plt.show()"
   ],
   "metadata": {
    "collapsed": false,
    "pycharm": {
     "name": "#%%\n"
    }
   }
  },
  {
   "cell_type": "code",
   "execution_count": null,
   "outputs": [],
   "source": [
    "data_filepath = '../datasets/jasper_small_2.npz'\n",
    "ini_filepath = '../saved_models/jasper_small_2/r{}_ini.npz'\n",
    "save_filepath = '../saved_models/jasper_small_2/r{}_l{}_g{}_it{}.npz'\n",
    "image_filepath = '../images/jasper_small_2/r{}_l{}_g{}_it{}.jpg'"
   ],
   "metadata": {
    "collapsed": false,
    "pycharm": {
     "name": "#%%\n"
    }
   }
  },
  {
   "cell_type": "code",
   "execution_count": null,
   "outputs": [],
   "source": [
    "# data = np.load(data_filepath)\n",
    "# M = data['M']\n",
    "# Wt = data['W_true']\n",
    "# Ht = data['H_true']\n",
    "\n",
    "M = np.load(data_filepath)['X']\n",
    "\n",
    "m, n = M.shape"
   ],
   "metadata": {
    "collapsed": false,
    "pycharm": {
     "name": "#%%\n"
    }
   }
  },
  {
   "cell_type": "code",
   "execution_count": null,
   "outputs": [],
   "source": [
    "max_iters = 1000\n",
    "r = n"
   ],
   "metadata": {
    "collapsed": false,
    "pycharm": {
     "name": "#%%\n"
    }
   }
  },
  {
   "cell_type": "code",
   "execution_count": null,
   "outputs": [],
   "source": [
    "if os.path.exists(ini_filepath.format(r)):\n",
    "    data = np.load(ini_filepath.format(r))\n",
    "    ini_W = data['ini_W']\n",
    "    ini_H = data['ini_H']\n",
    "else:\n",
    "    ini_W = np.random.rand(m, r)\n",
    "    ini_H = np.random.rand(r, n)\n",
    "    with open(ini_filepath.format(r), 'wb') as fout:\n",
    "        np.savez_compressed(fout, ini_W=ini_W, ini_H=ini_H)"
   ],
   "metadata": {
    "collapsed": false,
    "pycharm": {
     "name": "#%%\n"
    }
   }
  },
  {
   "cell_type": "code",
   "execution_count": null,
   "outputs": [],
   "source": [
    "lams = [0.001, 1000, 0.1, 1, 10]\n",
    "gammas = [0.001, 1000, 0.1, 1, 10]\n",
    "it_checkpoints = [1000, 2000, 5000, 10000]\n",
    "\n",
    "for i, iters in enumerate(it_checkpoints):\n",
    "    for g in gammas:\n",
    "        for l in lams:\n",
    "            if i == 0:\n",
    "                W, H, fscores, gscores, hscores, total_scores = sonnmf(M, ini_W.copy(), ini_H.copy(), lam=l, gamma=g, itermax=iters, W_update_iters=10, early_stop=True, verbose=False)\n",
    "                save_results(save_filepath.format(r, l , g, iters), W, H, fscores, gscores, hscores, total_scores)\n",
    "\n",
    "            else:\n",
    "                old_W, old_H, old_fscores, old_gscores, old_hscores, old_total_scores = load_results(save_filepath.format(r, l , g, it_checkpoints[i-1]))\n",
    "                W, H, fscores, gscores, hscores, total_scores = sonnmf(M, old_W.copy(), old_H.copy(), lam=l, gamma=g, itermax=iters - it_checkpoints[i-1], W_update_iters=10, early_stop=True, verbose=False)\n",
    "                fscores = np.concatenate((old_fscores[:-1], fscores))\n",
    "                gscores = np.concatenate((old_gscores[:-1], gscores))\n",
    "                hscores = np.concatenate((old_hscores[:-1], hscores))\n",
    "                total_scores = np.concatenate((old_total_scores[:-1], total_scores))\n",
    "                save_results(save_filepath.format(r, l , g, iters), W, H, fscores, gscores, hscores, total_scores)\n",
    "            print(iters, g, l)"
   ],
   "metadata": {
    "collapsed": false,
    "pycharm": {
     "name": "#%%\n"
    }
   }
  },
  {
   "cell_type": "code",
   "execution_count": null,
   "outputs": [],
   "source": [
    "# lam = 0.01\n",
    "# gamma = 0.5"
   ],
   "metadata": {
    "collapsed": false,
    "pycharm": {
     "name": "#%%\n"
    }
   }
  },
  {
   "cell_type": "code",
   "execution_count": null,
   "outputs": [],
   "source": [
    "# import time\n",
    "# import csv\n",
    "#\n",
    "# W_update_iters_list = [1, 5, 10, 50, 100]\n",
    "# maxit = 1000\n",
    "#\n",
    "# with open('results.csv', 'w', newline='') as csvfile:\n",
    "#         fieldnames = ['W_update_iters', 'time', 'lam', 'gamma', 'itermax', 'H_update_iters']\n",
    "#         writer = csv.DictWriter(csvfile, fieldnames=fieldnames)\n",
    "#         writer.writeheader()"
   ],
   "metadata": {
    "collapsed": false,
    "pycharm": {
     "name": "#%%\n"
    }
   }
  },
  {
   "cell_type": "code",
   "execution_count": null,
   "outputs": [],
   "source": [
    "# tscores = list()\n",
    "# for wits in W_update_iters_list:\n",
    "#     start_time = time.time()\n",
    "#     W, H, fscores, gscores, hscores, total_scores = sonnmf(M, ini_W.copy(), ini_H.copy(), lam, gamma, itermax=maxit, H_update_iters=1, W_update_iters=wits, early_stop=True, verbose=False)\n",
    "#     elapsed_time = time.time() - start_time\n",
    "#\n",
    "#     plot_3d(M, Wt, W, f'W{wits}H1IT{maxit}.jpg')\n",
    "#\n",
    "#     # Save the current results to a CSV file\n",
    "#     with open('results.csv', 'a', newline='') as csvfile:\n",
    "#         writer = csv.DictWriter(csvfile, fieldnames=fieldnames)\n",
    "#         writer.writerow({'W_update_iters': wits, 'time': elapsed_time, 'lam': lam, 'gamma': gamma, 'itermax': maxit, 'H_update_iters': 1})\n",
    "#\n",
    "#     tscores.append(total_scores)"
   ],
   "metadata": {
    "collapsed": false,
    "pycharm": {
     "name": "#%%\n"
    }
   }
  },
  {
   "cell_type": "code",
   "execution_count": null,
   "outputs": [],
   "source": [
    "# for i, wits in enumerate(W_update_iters_list):\n",
    "#     plt.plot(tscores[i], label=f'W_its={wits}')\n",
    "# plt.yscale('log')\n",
    "# plt.legend()"
   ],
   "metadata": {
    "collapsed": false,
    "pycharm": {
     "name": "#%%\n"
    }
   }
  },
  {
   "cell_type": "code",
   "execution_count": null,
   "outputs": [],
   "source": [
    "# for i, wits in enumerate(W_update_iters_list):\n",
    "#     plt.plot(tscores[i][-199:] - tscores[i][-200:-1], label=f'W_its={wits}')\n",
    "# # plt.yscale('log')\n",
    "# plt.title('$F_{shifted} - F$')\n",
    "# plt.xlabel('iterations')\n",
    "# plt.legend()\n",
    "# # plt.savefig('scores_for_w_its.jpg')"
   ],
   "metadata": {
    "collapsed": false,
    "pycharm": {
     "name": "#%%\n"
    }
   }
  }
 ],
 "metadata": {
  "kernelspec": {
   "display_name": "Python 3",
   "language": "python",
   "name": "python3"
  },
  "language_info": {
   "codemirror_mode": {
    "name": "ipython",
    "version": 2
   },
   "file_extension": ".py",
   "mimetype": "text/x-python",
   "name": "python",
   "nbconvert_exporter": "python",
   "pygments_lexer": "ipython2",
   "version": "2.7.6"
  }
 },
 "nbformat": 4,
 "nbformat_minor": 0
}