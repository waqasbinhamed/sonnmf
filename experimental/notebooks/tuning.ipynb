{
 "cells": [
  {
   "cell_type": "code",
   "execution_count": 1,
   "metadata": {
    "collapsed": false,
    "pycharm": {
     "name": "#%%\n"
    }
   },
   "outputs": [],
   "source": [
    "import os\n",
    "import numpy as np\n",
    "import matplotlib.pyplot as plt\n",
    "from sonnmf.numba.main import sonnmf\n",
    "from PIL import Image\n",
    "from mpl_toolkits.axes_grid1 import make_axes_locatable"
   ]
  },
  {
   "cell_type": "code",
   "execution_count": 2,
   "metadata": {
    "collapsed": false,
    "pycharm": {
     "name": "#%%\n"
    }
   },
   "outputs": [],
   "source": [
    "def save_results(filepath, W, H, fscores, gscores, hscores, total_scores):\n",
    "    with open(filepath, 'wb') as fout:\n",
    "        np.savez_compressed(fout, W=W, H=H, fscores=fscores, gscores=gscores, hscores=hscores, total_scores=total_scores)\n",
    "\n",
    "def load_results(filepath):\n",
    "    data = np.load(filepath)\n",
    "    return data['W'], data['H'], data['fscores'], data['gscores'], data['hscores'], data['total_scores']\n",
    "\n",
    "def plot_separate_H(H, img_size, figsize, fontsize, num_rows=4, normalize_row=False, filename=None):\n",
    "    rank = H.shape[0]\n",
    "    if normalize_row:\n",
    "        H /= np.linalg.norm(H, axis=1, keepdims=True)\n",
    "    H3d = H.reshape(-1, img_size[0], img_size[1], order='F')\n",
    "    num_cols = int(np.ceil(rank / num_rows))\n",
    "    if num_rows > 1:\n",
    "        fig, axs = plt.subplots(num_rows, num_cols, figsize=figsize)\n",
    "        cnt = 0\n",
    "        for i in range(num_rows):\n",
    "            for j in range(num_cols):\n",
    "                if cnt < rank:\n",
    "                    img = axs[i, j].imshow(H3d[cnt, :, :], cmap='gray')\n",
    "                    axs[i, j].set_title(f'$h^{{{cnt + 1}}}$', fontsize=fontsize)\n",
    "                    axs[i, j].axis('off')\n",
    "                    divider = make_axes_locatable(axs[i, j])\n",
    "                    cax = divider.append_axes('right', size='5%', pad=0.1)\n",
    "                    fig.colorbar(img, cax=cax, orientation='vertical')\n",
    "                else:\n",
    "                    axs[i, j].axis('off')\n",
    "                cnt += 1\n",
    "    else:\n",
    "        fig, axs = plt.subplots(1, rank, figsize=figsize)\n",
    "        cnt = 0\n",
    "        while cnt < rank:\n",
    "            img = axs[cnt].imshow(H3d[cnt, :, :], cmap='gray')\n",
    "            axs[cnt].set_title(f'$h^{{{cnt + 1}}}$', fontsize=fontsize)\n",
    "            axs[cnt].axis('off')\n",
    "            divider = make_axes_locatable(axs[cnt])\n",
    "            cax = divider.append_axes('right', size='5%', pad=0.1)\n",
    "            fig.colorbar(img, cax=cax, orientation='vertical')\n",
    "\n",
    "            cnt += 1\n",
    "    plt.tight_layout()\n",
    "    if filename:\n",
    "        plt.savefig(filename)\n",
    "        plt.close()\n",
    "\n",
    "\n",
    "def plot_combined_H(H, img_size, figsize, num_rows=1, normalize_row=False, filename=None):\n",
    "    if normalize_row:\n",
    "        H /= np.linalg.norm(H, axis=1, keepdims=True)\n",
    "\n",
    "    H3d = H.reshape(-1, img_size[0], img_size[1], order='F')\n",
    "\n",
    "    if num_rows > 1:\n",
    "        num_cols = int(np.ceil(H.shape[0] / num_rows))\n",
    "        large_mat = np.vstack([np.hstack(H3d[i * num_cols: (i+1) * num_cols]) for i in range(num_rows)])\n",
    "    else:\n",
    "        large_mat = np.hstack(H3d)\n",
    "\n",
    "    fig, ax = plt.subplots(figsize=figsize)\n",
    "    im = ax.imshow(large_mat, cmap='gray')\n",
    "    divider = make_axes_locatable(ax)\n",
    "    cax = divider.append_axes('right', size='3%', pad=0.1)\n",
    "    fig.colorbar(im, cax=cax, orientation='vertical')\n",
    "\n",
    "    plt.tight_layout()\n",
    "\n",
    "    if filename:\n",
    "        plt.savefig(filename)\n",
    "        plt.close()\n",
    "\n",
    "\n",
    "def plot_W_mats(W, figsize, fontsize, n_rows=1, filename=None, scale_y=False, plot_title=None):\n",
    "    rank = W.shape[1]\n",
    "    wmin, wmax = np.min(W), np.max(W)\n",
    "\n",
    "    n_cols = int(np.ceil(rank / n_rows))\n",
    "    fig, axs = plt.subplots(n_rows, n_cols, figsize=figsize)\n",
    "    axs = axs.ravel()\n",
    "\n",
    "    for cnt, ax in enumerate(axs):\n",
    "        if cnt < rank:\n",
    "            ax.plot(W[:, cnt], linewidth=3)\n",
    "            if scale_y:\n",
    "                ax.set_ylim([min(0, wmin), wmax])\n",
    "\n",
    "            ax.set_title(f'$w_{{{cnt + 1}}}$', fontsize=fontsize)\n",
    "            ax.set_xlabel('Bands')\n",
    "            ax.set_ylabel('Reflectance')\n",
    "        else:\n",
    "            ax.axis('off')\n",
    "\n",
    "    plt.tight_layout()\n",
    "    if plot_title:\n",
    "        fig.suptitle(plot_title, fontsize=25)\n",
    "    if filename:\n",
    "        fig.savefig(filename)\n",
    "        plt.close()\n",
    "\n",
    "\n",
    "def merge_images(images_list, filename, delete_images=False):\n",
    "    imgs = [Image.open(i) for i in images_list]\n",
    "    min_img_width = min(i.width for i in imgs)\n",
    "\n",
    "    total_height = 0\n",
    "    for i, img in enumerate(imgs):\n",
    "        if img.width > min_img_width:\n",
    "            imgs[i] = img.resize((min_img_width, int(img.height / img.width * min_img_width)), Image.ANTIALIAS)\n",
    "        total_height += imgs[i].height\n",
    "\n",
    "    img_merge = Image.new(imgs[0].mode, (min_img_width, total_height))\n",
    "    y = 0\n",
    "    for img in imgs:\n",
    "        img_merge.paste(img, (0, y))\n",
    "        y += img.height\n",
    "\n",
    "    img_merge.save(filename)\n",
    "\n",
    "    if delete_images:\n",
    "        for fp in images_list:\n",
    "            os.remove(fp)\n",
    "\n",
    "\n",
    "def plot_and_merge(W, H, imgsize, figsize, fontsize, filenames, num_rows, delete=False):\n",
    "    plot_W_mats(W, figsize, fontsize=fontsize, n_rows=num_rows, filename=filenames[0])\n",
    "    plot_separate_H(H, imgsize, figsize=figsize, fontsize=fontsize, num_rows=num_rows, filename=filenames[1])\n",
    "    plot_combined_H(H, imgsize, figsize=figsize, num_rows=num_rows, filename=filenames[2])\n",
    "    merge_images(filenames[:3], filenames[3], delete_images=delete)"
   ]
  },
  {
   "cell_type": "code",
   "execution_count": 3,
   "metadata": {
    "collapsed": false,
    "pycharm": {
     "name": "#%%\n"
    }
   },
   "outputs": [],
   "source": [
    "data_filepath = '../datasets/jasper_small_2.npz'\n",
    "ini_filepath = '../saved_models/jasper_small_2/r{}_ini.npz'\n",
    "save_filepath = '../saved_models/jasper_small_2/r{}_l{}_g{}_it{}.npz'\n",
    "image_filepath = '../images/jasper_small_2/r{}_l{}_g{}_it{}.jpg'"
   ]
  },
  {
   "cell_type": "code",
   "execution_count": null,
   "metadata": {
    "collapsed": false,
    "pycharm": {
     "name": "#%%\n"
    }
   },
   "outputs": [],
   "source": [
    "M = np.load(data_filepath)['X']\n",
    "M = M.astype(np.float64)\n",
    "m, n = M.shape\n",
    "r = n"
   ]
  },
  {
   "cell_type": "code",
   "execution_count": null,
   "metadata": {
    "collapsed": false,
    "pycharm": {
     "name": "#%%\n"
    }
   },
   "outputs": [],
   "source": [
    "if os.path.exists(ini_filepath.format(r)):\n",
    "    data = np.load(ini_filepath.format(r))\n",
    "    ini_W = data['ini_W']\n",
    "    ini_H = data['ini_H']\n",
    "else:\n",
    "    ini_W = np.random.rand(m, r)\n",
    "    ini_H = np.random.rand(r, n)\n",
    "    with open(ini_filepath.format(r), 'wb') as fout:\n",
    "        np.savez_compressed(fout, ini_W=ini_W, ini_H=ini_H)"
   ]
  },
  {
   "cell_type": "code",
   "execution_count": null,
   "metadata": {
    "collapsed": false,
    "pycharm": {
     "name": "#%%\n"
    }
   },
   "outputs": [],
   "source": [
    "lams = [100]\n",
    "gammas = [0.001, 0.01, 0.1, 1]\n",
    "it_checkpoints = [1000, 2000, 300, 4000, 5000]\n",
    "\n",
    "for i, iters in enumerate(it_checkpoints):\n",
    "    for g in gammas:\n",
    "        for l in lams:\n",
    "            if not os.path.exists(save_filepath.format(r, l , g, iters)):\n",
    "                if i == 0:\n",
    "                    W, H, fscores, gscores, hscores, total_scores = sonnmf(M, ini_W.copy(), ini_H.copy(), lam=l, gamma=g, itermax=iters, W_update_iters=10, early_stop=True, verbose=False)\n",
    "                    save_results(save_filepath.format(r, l , g, iters), W, H, fscores, gscores, hscores, total_scores)\n",
    "\n",
    "                else:\n",
    "                    old_W, old_H, old_fscores, old_gscores, old_hscores, old_total_scores = load_results(save_filepath.format(r, l , g, it_checkpoints[i-1]))\n",
    "                    W, H, fscores, gscores, hscores, total_scores = sonnmf(M, old_W.copy(), old_H.copy(), lam=l, gamma=g, itermax=iters - it_checkpoints[i-1], W_update_iters=10, early_stop=True, verbose=False)\n",
    "                    fscores = np.concatenate((old_fscores[:-1], fscores))\n",
    "                    gscores = np.concatenate((old_gscores[:-1], gscores))\n",
    "                    hscores = np.concatenate((old_hscores[:-1], hscores))\n",
    "                    total_scores = np.concatenate((old_total_scores[:-1], total_scores))\n",
    "                    save_results(save_filepath.format(r, l , g, iters), W, H, fscores, gscores, hscores, total_scores)\n",
    "            print(iters, g, l)"
   ]
  },
  {
   "cell_type": "code",
   "execution_count": null,
   "outputs": [],
   "source": [
    "lams = [1000]\n",
    "gammas = [100]\n",
    "it_checkpoints = [1000, 2000, 300, 4000, 5000]\n",
    "\n",
    "for i, iters in enumerate(it_checkpoints):\n",
    "    for g in gammas:\n",
    "        for l in lams:\n",
    "            if not os.path.exists(save_filepath.format(r, l , g, iters)):\n",
    "                if i == 0:\n",
    "                    W, H, fscores, gscores, hscores, total_scores = sonnmf(M, ini_W.copy(), ini_H.copy(), lam=l, gamma=g, itermax=iters, W_update_iters=10, early_stop=True, verbose=False)\n",
    "                    save_results(save_filepath.format(r, l , g, iters), W, H, fscores, gscores, hscores, total_scores)\n",
    "\n",
    "                else:\n",
    "                    old_W, old_H, old_fscores, old_gscores, old_hscores, old_total_scores = load_results(save_filepath.format(r, l , g, it_checkpoints[i-1]))\n",
    "                    W, H, fscores, gscores, hscores, total_scores = sonnmf(M, old_W.copy(), old_H.copy(), lam=l, gamma=g, itermax=iters - it_checkpoints[i-1], W_update_iters=10, early_stop=True, verbose=False)\n",
    "                    fscores = np.concatenate((old_fscores[:-1], fscores))\n",
    "                    gscores = np.concatenate((old_gscores[:-1], gscores))\n",
    "                    hscores = np.concatenate((old_hscores[:-1], hscores))\n",
    "                    total_scores = np.concatenate((old_total_scores[:-1], total_scores))\n",
    "                    save_results(save_filepath.format(r, l , g, iters), W, H, fscores, gscores, hscores, total_scores)\n",
    "            print(iters, g, l)"
   ],
   "metadata": {
    "collapsed": false,
    "pycharm": {
     "name": "#%%\n"
    }
   }
  },
  {
   "cell_type": "code",
   "execution_count": null,
   "outputs": [],
   "source": [
    "# for i, iters in enumerate(it_checkpoints):\n",
    "#     for g in gammas:\n",
    "#         for l in lams:\n",
    "#             W, H, fscores, gscores, hscores, total_scores = load_results(save_filepath.format(r, l , g, iters))\n",
    "#             fns = ['../images/tmp_w.jpg', '../images/tmp_seph.jpg', '../images/tmp_combh.jpg', image_filepath.format(r, l , g, iters)]\n",
    "#             plot_and_merge(W, H, (8, 8), (32, 32), 16, fns, 8, delete=True)\n",
    "#             print(iters, g, l)"
   ],
   "metadata": {
    "collapsed": false,
    "pycharm": {
     "name": "#%%\n"
    }
   }
  },
  {
   "cell_type": "code",
   "execution_count": null,
   "metadata": {
    "collapsed": false,
    "pycharm": {
     "name": "#%%\n"
    }
   },
   "outputs": [],
   "source": []
  },
  {
   "cell_type": "code",
   "execution_count": 4,
   "outputs": [],
   "source": [
    "data_filepath = '../datasets/jasper_small_3.npz'\n",
    "ini_filepath = '../saved_models/jasper_small_3/r{}_ini.npz'\n",
    "save_filepath = '../saved_models/jasper_small_3/r{}_l{}_g{}_it{}.npz'\n",
    "image_filepath = '../images/jasper_small_3/r{}_l{}_g{}_it{}.jpg'"
   ],
   "metadata": {
    "collapsed": false,
    "pycharm": {
     "name": "#%%\n"
    }
   }
  },
  {
   "cell_type": "code",
   "execution_count": 5,
   "outputs": [],
   "source": [
    "M = np.load(data_filepath)['X']\n",
    "M = M.astype(np.float64)\n",
    "m, n = M.shape\n",
    "r = n"
   ],
   "metadata": {
    "collapsed": false,
    "pycharm": {
     "name": "#%%\n"
    }
   }
  },
  {
   "cell_type": "code",
   "execution_count": 6,
   "outputs": [],
   "source": [
    "if os.path.exists(ini_filepath.format(r)):\n",
    "    data = np.load(ini_filepath.format(r))\n",
    "    ini_W = data['ini_W']\n",
    "    ini_H = data['ini_H']\n",
    "else:\n",
    "    ini_W = np.random.rand(m, r)\n",
    "    ini_H = np.random.rand(r, n)\n",
    "    with open(ini_filepath.format(r), 'wb') as fout:\n",
    "        np.savez_compressed(fout, ini_W=ini_W, ini_H=ini_H)"
   ],
   "metadata": {
    "collapsed": false,
    "pycharm": {
     "name": "#%%\n"
    }
   }
  },
  {
   "cell_type": "code",
   "execution_count": null,
   "outputs": [],
   "source": [
    "lams = [10]\n",
    "gammas = [0.1]\n",
    "it_checkpoints = [1000, 2000, 300, 4000, 5000]\n",
    "\n",
    "for i, iters in enumerate(it_checkpoints):\n",
    "    for g in gammas:\n",
    "        for l in lams:\n",
    "            W, H, fscores, gscores, hscores, total_scores = load_results(save_filepath.format(r, l , g, iters))\n",
    "            fns = ['../images/tmp_w.jpg', '../images/tmp_seph.jpg', '../images/tmp_combh.jpg', image_filepath.format(r, l , g, iters)]\n",
    "            plot_and_merge(W, H, (8, 8), (32, 32), 16, fns, 8, delete=True)\n",
    "            print(iters, g, l)"
   ],
   "metadata": {
    "collapsed": false,
    "pycharm": {
     "name": "#%%\n"
    }
   }
  },
  {
   "cell_type": "code",
   "execution_count": null,
   "outputs": [],
   "source": [
    "lams = [100]\n",
    "gammas = [1, 10]\n",
    "it_checkpoints = [1000, 2000, 300, 4000, 5000]\n",
    "\n",
    "for i, iters in enumerate(it_checkpoints):\n",
    "    for g in gammas:\n",
    "        for l in lams:\n",
    "            if not os.path.exists(save_filepath.format(r, l , g, iters)):\n",
    "                if i == 0:\n",
    "                    W, H, fscores, gscores, hscores, total_scores = sonnmf(M, ini_W.copy(), ini_H.copy(), lam=l, gamma=g, itermax=iters, W_update_iters=10, early_stop=True, verbose=False)\n",
    "                    save_results(save_filepath.format(r, l , g, iters), W, H, fscores, gscores, hscores, total_scores)\n",
    "\n",
    "                else:\n",
    "                    old_W, old_H, old_fscores, old_gscores, old_hscores, old_total_scores = load_results(save_filepath.format(r, l , g, it_checkpoints[i-1]))\n",
    "                    W, H, fscores, gscores, hscores, total_scores = sonnmf(M, old_W.copy(), old_H.copy(), lam=l, gamma=g, itermax=iters - it_checkpoints[i-1], W_update_iters=10, early_stop=True, verbose=False)\n",
    "                    fscores = np.concatenate((old_fscores[:-1], fscores))\n",
    "                    gscores = np.concatenate((old_gscores[:-1], gscores))\n",
    "                    hscores = np.concatenate((old_hscores[:-1], hscores))\n",
    "                    total_scores = np.concatenate((old_total_scores[:-1], total_scores))\n",
    "                    save_results(save_filepath.format(r, l , g, iters), W, H, fscores, gscores, hscores, total_scores)\n",
    "            print(iters, g, l)"
   ],
   "metadata": {
    "collapsed": false,
    "pycharm": {
     "name": "#%%\n"
    }
   }
  },
  {
   "cell_type": "code",
   "execution_count": null,
   "outputs": [],
   "source": [
    "lams = [1000]\n",
    "gammas = [1]\n",
    "it_checkpoints = [1000, 2000, 300, 4000, 5000]\n",
    "\n",
    "for i, iters in enumerate(it_checkpoints):\n",
    "    for g in gammas:\n",
    "        for l in lams:\n",
    "            if not os.path.exists(save_filepath.format(r, l , g, iters)):\n",
    "                if i == 0:\n",
    "                    W, H, fscores, gscores, hscores, total_scores = sonnmf(M, ini_W.copy(), ini_H.copy(), lam=l, gamma=g, itermax=iters, W_update_iters=10, early_stop=True, verbose=False)\n",
    "                    save_results(save_filepath.format(r, l , g, iters), W, H, fscores, gscores, hscores, total_scores)\n",
    "\n",
    "                else:\n",
    "                    old_W, old_H, old_fscores, old_gscores, old_hscores, old_total_scores = load_results(save_filepath.format(r, l , g, it_checkpoints[i-1]))\n",
    "                    W, H, fscores, gscores, hscores, total_scores = sonnmf(M, old_W.copy(), old_H.copy(), lam=l, gamma=g, itermax=iters - it_checkpoints[i-1], W_update_iters=10, early_stop=True, verbose=False)\n",
    "                    fscores = np.concatenate((old_fscores[:-1], fscores))\n",
    "                    gscores = np.concatenate((old_gscores[:-1], gscores))\n",
    "                    hscores = np.concatenate((old_hscores[:-1], hscores))\n",
    "                    total_scores = np.concatenate((old_total_scores[:-1], total_scores))\n",
    "                    save_results(save_filepath.format(r, l , g, iters), W, H, fscores, gscores, hscores, total_scores)\n",
    "            print(iters, g, l)"
   ],
   "metadata": {
    "collapsed": false,
    "pycharm": {
     "name": "#%%\n"
    }
   }
  }
 ],
 "metadata": {
  "kernelspec": {
   "display_name": "Python 3",
   "language": "python",
   "name": "python3"
  },
  "language_info": {
   "codemirror_mode": {
    "name": "ipython",
    "version": 3
   },
   "file_extension": ".py",
   "mimetype": "text/x-python",
   "name": "python",
   "nbconvert_exporter": "python",
   "pygments_lexer": "ipython3",
   "version": "3.10.11"
  }
 },
 "nbformat": 4,
 "nbformat_minor": 0
}