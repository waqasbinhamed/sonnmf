{
 "cells": [
  {
   "cell_type": "code",
   "execution_count": null,
   "outputs": [],
   "source": [
    "import os\n",
    "import numpy as np\n",
    "import matplotlib.pyplot as plt\n",
    "from sonnmf.main import sonnmf"
   ],
   "metadata": {
    "collapsed": false,
    "pycharm": {
     "name": "#%%\n"
    }
   }
  },
  {
   "cell_type": "code",
   "execution_count": null,
   "outputs": [],
   "source": [
    "def save_results(filepath, W, H, fscores, gscores, hscores, total_scores):\n",
    "    with open(filepath, 'wb') as fout:\n",
    "        np.savez_compressed(fout, W=W, H=H, fscores=fscores, gscores=gscores, hscores=hscores, total_scores=total_scores)\n",
    "\n",
    "def load_results(filepath):\n",
    "    data = np.load(filepath)\n",
    "    return data['W'], data['H'], data['fscores'], data['gscores'], data['hscores'], data['total_scores']\n",
    "\n",
    "def plot_3d(X, Wt, W, filepath):\n",
    "    fig = plt.figure()\n",
    "    ax = fig.add_subplot(111, projection='3d')\n",
    "    ax.scatter(X[0, :], X[1, :], X[2, :], c='lightblue', marker='o')\n",
    "    ax.scatter(Wt[0, :], Wt[1, :], Wt[2, :], c='red', marker='o', s=144)\n",
    "    ax.scatter(W[0, :], W[1, :], W[2, :], c='black', marker='x', s=144)\n",
    "    ax.set_xlabel('X1')\n",
    "    ax.set_ylabel('X2')\n",
    "    ax.set_zlabel('X3')\n",
    "    ax.legend(['Data points', 'True W', 'Estimated W'])\n",
    "    ax.grid(True)\n",
    "    if filepath:\n",
    "        plt.savefig(filepath)\n",
    "    else:\n",
    "        plt.show()"
   ],
   "metadata": {
    "collapsed": false,
    "pycharm": {
     "name": "#%%\n"
    }
   }
  },
  {
   "cell_type": "code",
   "execution_count": null,
   "outputs": [],
   "source": [
    "data_filepath = '../datasets/jasper_small_2.npz'\n",
    "ini_filepath = '../saved_models/jasper_small_2/r{}_ini.npz'\n",
    "save_filepath = '../saved_models/jasper_small_2/r{}_l{}_g{}.npz'\n",
    "image_filepath = '../images/jasper_small_2/r{}_l{}_g{}.jpg'"
   ],
   "metadata": {
    "collapsed": false,
    "pycharm": {
     "name": "#%%\n"
    }
   }
  },
  {
   "cell_type": "code",
   "execution_count": null,
   "outputs": [],
   "source": [
    "M = np.load(data_filepath)['X']\n",
    "\n",
    "m, n = M.shape"
   ],
   "metadata": {
    "collapsed": false,
    "pycharm": {
     "name": "#%%\n"
    }
   }
  },
  {
   "cell_type": "code",
   "execution_count": null,
   "outputs": [],
   "source": [
    "max_iters = 10000\n",
    "r = n"
   ],
   "metadata": {
    "collapsed": false,
    "pycharm": {
     "name": "#%%\n"
    }
   }
  },
  {
   "cell_type": "code",
   "execution_count": null,
   "outputs": [],
   "source": [
    "if os.path.exists(ini_filepath.format(r)):\n",
    "    data = np.load(ini_filepath.format(r))\n",
    "    ini_W = data['ini_W']\n",
    "    ini_H = data['ini_H']\n",
    "else:\n",
    "    ini_W = np.random.rand(m, r)\n",
    "    ini_H = np.random.rand(r, n)\n",
    "    with open(ini_filepath, 'wb') as fout:\n",
    "        np.savez_compressed(fout, ini_W=ini_W, ini_H=ini_H)"
   ],
   "metadata": {
    "collapsed": false,
    "pycharm": {
     "name": "#%%\n"
    }
   }
  },
  {
   "cell_type": "code",
   "execution_count": null,
   "outputs": [],
   "source": [
    "lams = [0.001, 1000, 0.1, 1, 10]\n",
    "gammas = [0.001, 1000, 0.1, 1, 10]\n",
    "\n",
    "for g in gammas:\n",
    "    for l in lams:\n",
    "        W, H, fscores, gscores, hscores, total_scores = sonnmf(M, ini_W.copy(), ini_H.copy(), lam=l, gamma=g, itermax=max_iters, early_stop=True, verbose=False)\n",
    "        save_results(save_filepath.format(r, l , g), W, H, fscores, gscores, hscores, total_scores)\n",
    "        print(g, l)"
   ],
   "metadata": {
    "collapsed": false,
    "pycharm": {
     "name": "#%%\n"
    }
   }
  },
  {
   "cell_type": "code",
   "execution_count": null,
   "outputs": [],
   "source": [],
   "metadata": {
    "collapsed": false,
    "pycharm": {
     "name": "#%%\n"
    }
   }
  }
 ],
 "metadata": {
  "kernelspec": {
   "display_name": "Python 3",
   "language": "python",
   "name": "python3"
  },
  "language_info": {
   "codemirror_mode": {
    "name": "ipython",
    "version": 2
   },
   "file_extension": ".py",
   "mimetype": "text/x-python",
   "name": "python",
   "nbconvert_exporter": "python",
   "pygments_lexer": "ipython2",
   "version": "2.7.6"
  }
 },
 "nbformat": 4,
 "nbformat_minor": 0
}