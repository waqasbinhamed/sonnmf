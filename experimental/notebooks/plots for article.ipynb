{
 "cells": [
  {
   "cell_type": "code",
   "execution_count": 1,
   "outputs": [],
   "source": [
    "import numpy as np\n",
    "import matplotlib.pyplot as plt\n",
    "from PIL import Image\n",
    "\n",
    "np.random.seed(42)\n",
    "np.set_printoptions(precision=3)"
   ],
   "metadata": {
    "collapsed": false,
    "pycharm": {
     "name": "#%%\n"
    }
   }
  },
  {
   "cell_type": "code",
   "execution_count": 2,
   "outputs": [],
   "source": [
    "def load_results(filepath):\n",
    "    data = np.load(filepath)\n",
    "    return data['W'], data['H'], data['fscores'], data['gscores'], data['hscores'], data['total_scores']"
   ],
   "metadata": {
    "collapsed": false,
    "pycharm": {
     "name": "#%%\n"
    }
   }
  },
  {
   "cell_type": "markdown",
   "source": [
    "## Region selection"
   ],
   "metadata": {
    "collapsed": false,
    "pycharm": {
     "name": "#%% md\n"
    }
   }
  },
  {
   "cell_type": "code",
   "execution_count": 3,
   "outputs": [],
   "source": [
    "# import matplotlib.pyplot as plt\n",
    "# import matplotlib.patches as patches\n",
    "# from mpl_toolkits.axes_grid1 import make_axes_locatable\n",
    "#\n",
    "# # Plot the matrix with imshow\n",
    "# # img = plt.imshow(jasper_3d[80, :, :], cmap='gray')\n",
    "# img = plt.imread('resized_image.png')\n",
    "#\n",
    "# # Plot the image with imshow\n",
    "# plt.imshow(img)\n",
    "# # Add a rectangular box around the region of interest\n",
    "# rect1 = patches.Rectangle((0, 62), 8, 8, linewidth=2, edgecolor='r', facecolor='none') # jasper_small_6\n",
    "# rect2 = patches.Rectangle((30, 10), 10, 10, linewidth=2, edgecolor='r', facecolor='none') # jasper_small_2\n",
    "# rect3 = patches.Rectangle((0, 0), 99, 99, linewidth=2, edgecolor='r', facecolor='none')\n",
    "#\n",
    "# # Add the rectangles to the plot\n",
    "# ax = plt.gca()\n",
    "# ax.add_patch(rect1)\n",
    "# ax.add_patch(rect2)\n",
    "# ax.add_patch(rect3)\n",
    "#\n",
    "# # Add numbering to the rectangles\n",
    "# ax.text(4, 66, \"1\", color='r', fontsize=12, ha='center', va='center')\n",
    "# ax.text(35, 15, \"2\", color='r', fontsize=12, ha='center', va='center')\n",
    "# ax.text(104, 96, \"3\", color='r', fontsize=14, ha='right', va='bottom')\n",
    "#\n",
    "# # Turn off the axis labels and tick marks\n",
    "# ax.axis(False)\n",
    "#\n",
    "# # Adjust the layout of the plot\n",
    "# plt.tight_layout()\n",
    "#\n",
    "# # Show the plot\n",
    "# # plt.show()\n",
    "# plt.savefig('../final_results/regions_over_img.png')"
   ],
   "metadata": {
    "collapsed": false,
    "pycharm": {
     "name": "#%%\n"
    }
   }
  },
  {
   "cell_type": "code",
   "execution_count": 4,
   "outputs": [],
   "source": [
    "# # Open the image file\n",
    "# image = Image.open(\"../../../../Desktop/jasper_region.png\")\n",
    "#\n",
    "# # Resize the image to 100x100 pixels\n",
    "# image = image.resize((100, 100))\n",
    "#\n",
    "# # Save the resized image\n",
    "# image.save(\"resized_image.png\")"
   ],
   "metadata": {
    "collapsed": false,
    "pycharm": {
     "name": "#%%\n"
    }
   }
  },
  {
   "cell_type": "markdown",
   "source": [
    "## jasper small 2 (10x10) - region 2"
   ],
   "metadata": {
    "collapsed": false,
    "pycharm": {
     "name": "#%% md\n"
    }
   }
  },
  {
   "cell_type": "code",
   "execution_count": 5,
   "outputs": [],
   "source": [
    "# W, H, fscores, gscores, hscores, total_scores = load_results(f'../saved_models/jasper_small_2/r{100}_l{1000}_g{0.001}_it{1000}.npz')"
   ],
   "metadata": {
    "collapsed": false,
    "pycharm": {
     "name": "#%%\n"
    }
   }
  },
  {
   "cell_type": "code",
   "execution_count": 6,
   "outputs": [],
   "source": [
    "# plt.imshow(np.corrcoef(W, rowvar=False), 'gray')\n",
    "# plt.colorbar()\n",
    "# plt.tight_layout()"
   ],
   "metadata": {
    "collapsed": false,
    "pycharm": {
     "name": "#%%\n"
    }
   }
  },
  {
   "cell_type": "code",
   "execution_count": 7,
   "outputs": [],
   "source": [
    "# wmin, wmax = np.min(W), np.max(W)\n",
    "#\n",
    "#\n",
    "# fig, ax = plt.subplots(1, 1, figsize=(3, 3))\n",
    "#\n",
    "# ax.set_xlabel('Bands')\n",
    "# ax.set_ylabel('Reflectance')\n",
    "# ax.set_ylim([min(0, wmin), wmax])\n",
    "#\n",
    "# ax.plot(W)\n",
    "# ax.set_title('$w_{{all}}$')\n",
    "#\n",
    "# # Adjust layout and display plot\n",
    "# plt.tight_layout()\n",
    "# plt.savefig(f'../images/jasper_small_2/r{100}_l{1000}_g{0.001}_it{1000}_overlapped.jpg')"
   ],
   "metadata": {
    "collapsed": false,
    "pycharm": {
     "name": "#%%\n"
    }
   }
  },
  {
   "cell_type": "code",
   "execution_count": 7,
   "outputs": [],
   "source": [],
   "metadata": {
    "collapsed": false,
    "pycharm": {
     "name": "#%%\n"
    }
   }
  },
  {
   "cell_type": "markdown",
   "source": [
    "### Jasper Full"
   ],
   "metadata": {
    "collapsed": false,
    "pycharm": {
     "name": "#%% md\n"
    }
   }
  },
  {
   "cell_type": "code",
   "execution_count": 8,
   "outputs": [],
   "source": [
    "# import matplotlib.pyplot as plt\n",
    "# import matplotlib.patches as patches\n",
    "#\n",
    "# # Plot the matrix with imshow\n",
    "# img = plt.imshow(M_2d, cmap='gray')\n",
    "#\n",
    "# # Add a rectangular box around the region of interest\n",
    "# # rect = patches.Rectangle((60, 0), 40, 50, linewidth=2, edgecolor='r', facecolor='none')\n",
    "# rect = patches.Rectangle((30, 10), 10, 10, linewidth=2, edgecolor='r', facecolor='none')\n",
    "# plt.gca().add_patch(rect)\n",
    "# plt.tight_layout()\n",
    "#\n",
    "# # Show the plot\n",
    "# plt.savefig('../../experimental/nmfson_results/max_rank/outlined_subregion.png')"
   ],
   "metadata": {
    "collapsed": false,
    "pycharm": {
     "name": "#%%\n"
    }
   }
  },
  {
   "cell_type": "code",
   "execution_count": 9,
   "outputs": [],
   "source": [
    "M = np.load('../datasets/jasper_full.npz')['X']\n",
    "m, n = M.shape\n",
    "\n",
    "r = 20\n",
    "imgsize = (100, 100)\n",
    "lam = 1000000\n",
    "gamma = 1000000\n",
    "max_iters = 1000"
   ],
   "metadata": {
    "collapsed": false,
    "pycharm": {
     "name": "#%%\n"
    }
   }
  },
  {
   "cell_type": "code",
   "execution_count": 10,
   "outputs": [],
   "source": [
    "save_filepath = '../saved_models/jasper_full/r{}_l{}_g{}_it{}.npz'\n",
    "W, H, fscores, gscores, hscores, total_scores = load_results(save_filepath.format(r, lam, gamma, max_iters))"
   ],
   "metadata": {
    "collapsed": false,
    "pycharm": {
     "name": "#%%\n"
    }
   }
  },
  {
   "cell_type": "code",
   "execution_count": null,
   "outputs": [],
   "source": [
    "plt.imshow(np.corrcoef(W, rowvar=False), 'gray')\n",
    "plt.colorbar()\n",
    "plt.tight_layout()\n",
    "# plt.savefig('/Users/waqas/Desktop/nmfson_results/jasper_small/correlation_matrix.png')"
   ],
   "metadata": {
    "collapsed": false,
    "pycharm": {
     "name": "#%%\n"
    }
   }
  },
  {
   "cell_type": "code",
   "execution_count": null,
   "outputs": [],
   "source": [
    "unique_idxs = [6, 8, 14]\n",
    "other_idxs = [x for x in range(r) if x not in unique_idxs]"
   ],
   "metadata": {
    "collapsed": false,
    "pycharm": {
     "name": "#%%\n"
    }
   }
  },
  {
   "cell_type": "code",
   "execution_count": null,
   "outputs": [],
   "source": [
    "wmin, wmax = np.min(W), np.max(W)\n",
    "\n",
    "\n",
    "fig, axs = plt.subplots(1, len(unique_idxs) + 1, figsize=(18, 4))\n",
    "axs = axs.ravel()\n",
    "\n",
    "\n",
    "for cnt, ax in enumerate(axs):\n",
    "    ax.set_xlabel('Bands')\n",
    "    ax.set_ylabel('Reflectance')\n",
    "    ax.set_ylim([min(0, wmin), wmax])\n",
    "\n",
    "for ax_idx, w_idx in enumerate(unique_idxs):\n",
    "    axs[ax_idx].plot(W[:, w_idx], linewidth=2)\n",
    "    axs[ax_idx].set_title(f'$w_{{{w_idx}}}$', fontsize=20)\n",
    "\n",
    "axs[-1].plot(W[:, other_idxs], )\n",
    "axs[-1].set_title('$w_{{other}}$', fontsize=20)\n",
    "\n",
    "# Adjust layout and display plot\n",
    "plt.tight_layout()\n",
    "plt.savefig(f'../final_results/jasper_full_overlapped.png')"
   ],
   "metadata": {
    "collapsed": false,
    "pycharm": {
     "name": "#%%\n"
    }
   }
  },
  {
   "cell_type": "code",
   "execution_count": null,
   "outputs": [],
   "source": [
    "# sum\n",
    "hsum = H[other_idxs, :].sum(axis=0, keepdims=True)\n",
    "wsum = W[:, other_idxs].sum(axis=1, keepdims=True)\n",
    "\n",
    "new_W = np.hstack((W[:, unique_idxs], wsum))\n",
    "new_H = np.vstack((H[unique_idxs, :], hsum))"
   ],
   "metadata": {
    "collapsed": false,
    "pycharm": {
     "name": "#%%\n"
    }
   }
  },
  {
   "cell_type": "code",
   "execution_count": null,
   "outputs": [],
   "source": [
    "def plot_W_mats(W, figsize, fontsize, n_rows=1, filename=None, scale_y=False, plot_title=None):\n",
    "    rank = W.shape[1]\n",
    "    wmin, wmax = np.min(W), np.max(W)\n",
    "\n",
    "    n_cols = int(np.ceil(rank / n_rows))\n",
    "    fig, axs = plt.subplots(n_rows, n_cols, figsize=figsize)\n",
    "    axs = axs.ravel()\n",
    "\n",
    "    for cnt, ax in enumerate(axs):\n",
    "        if cnt < rank:\n",
    "            ax.plot(W[:, cnt], linewidth=3)\n",
    "            if scale_y:\n",
    "                ax.set_ylim([min(0, wmin), wmax])\n",
    "\n",
    "            ax.set_title(f'$w_{{{cnt + 1}}}$', fontsize=fontsize)\n",
    "            ax.set_xlabel('Bands')\n",
    "            ax.set_ylabel('Reflectance')\n",
    "        else:\n",
    "            ax.axis('off')\n",
    "\n",
    "    plt.tight_layout()\n",
    "    if plot_title:\n",
    "        fig.suptitle(plot_title, fontsize=25)\n",
    "    if filename:\n",
    "        fig.savefig(filename)\n",
    "        plt.close()\n",
    "\n",
    "plot_W_mats(new_W, (18,4), 20, n_rows=1, filename='../final_results/jasper_full_summed.png')"
   ],
   "metadata": {
    "collapsed": false,
    "pycharm": {
     "name": "#%%\n"
    }
   }
  },
  {
   "cell_type": "code",
   "execution_count": null,
   "outputs": [],
   "source": [
    "from mpl_toolkits.axes_grid1 import make_axes_locatable\n",
    "\n",
    "\n",
    "def plot_combined_H(H, img_size, figsize, num_rows=1, normalize_row=False, filename=None):\n",
    "    if normalize_row:\n",
    "        H /= np.linalg.norm(H, axis=1, keepdims=True)\n",
    "\n",
    "    H3d = H.reshape(-1, img_size[0], img_size[1], order='F')\n",
    "\n",
    "    if num_rows > 1:\n",
    "        num_cols = int(np.ceil(H.shape[0] / num_rows))\n",
    "        large_mat = np.vstack([np.hstack(H3d[i * num_cols: (i+1) * num_cols]) for i in range(num_rows)])\n",
    "    else:\n",
    "        large_mat = np.hstack(H3d)\n",
    "\n",
    "    fig, ax = plt.subplots(figsize=figsize)\n",
    "    im = ax.imshow(large_mat, cmap='gray')\n",
    "    ax.axis('off')\n",
    "    divider = make_axes_locatable(ax)\n",
    "    cax = divider.append_axes('right', size='3%', pad=0.1)\n",
    "    cbar = fig.colorbar(im, cax=cax, orientation='vertical')\n",
    "    cbar.ax.tick_params(labelsize=15)\n",
    "    plt.tight_layout()\n",
    "    if filename:\n",
    "        plt.savefig(filename)\n",
    "        plt.close()\n",
    "\n",
    "plot_combined_H(new_H, (100, 100), (18, 4), num_rows=1, filename='../final_results/jasper_full_combh.png')"
   ],
   "metadata": {
    "collapsed": false,
    "pycharm": {
     "name": "#%%\n"
    }
   }
  },
  {
   "cell_type": "code",
   "execution_count": null,
   "outputs": [],
   "source": [],
   "metadata": {
    "collapsed": false,
    "pycharm": {
     "name": "#%%\n"
    }
   }
  }
 ],
 "metadata": {
  "kernelspec": {
   "display_name": "Python 3",
   "language": "python",
   "name": "python3"
  },
  "language_info": {
   "codemirror_mode": {
    "name": "ipython",
    "version": 2
   },
   "file_extension": ".py",
   "mimetype": "text/x-python",
   "name": "python",
   "nbconvert_exporter": "python",
   "pygments_lexer": "ipython2",
   "version": "2.7.6"
  }
 },
 "nbformat": 4,
 "nbformat_minor": 0
}