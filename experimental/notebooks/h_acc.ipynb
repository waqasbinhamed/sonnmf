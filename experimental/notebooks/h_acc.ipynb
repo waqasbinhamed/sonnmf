{
 "cells": [
  {
   "cell_type": "code",
   "execution_count": 1,
   "metadata": {},
   "outputs": [],
   "source": [
    "import os\n",
    "import time\n",
    "import csv\n",
    "import numpy as np\n",
    "from sonnmf.update_H import base as base_H, precomputed_constants, precomputed_constants_with_nesterov\n",
    "from sonnmf.update_W import base as base_W\n",
    "from sonnmf.utils import sonnmf_ini, sonnmf_post_it, save_results\n"
   ]
  },
  {
   "cell_type": "code",
   "execution_count": 2,
   "metadata": {},
   "outputs": [],
   "source": [
    "jasper_full = np.load('../datasets/jasper_full.npz')['X']\n",
    "jasper_3d = jasper_full.reshape(-1, 100, 100, order='F')\n",
    "m, n = jasper_full.shape"
   ]
  },
  {
   "cell_type": "code",
   "execution_count": 3,
   "metadata": {},
   "outputs": [],
   "source": [
    "max_iters = 10000\n",
    "r = 20\n",
    "_lam = 750"
   ]
  },
  {
   "cell_type": "code",
   "execution_count": 4,
   "metadata": {},
   "outputs": [],
   "source": [
    "ini_filepath = f'../saved_models/jasper_full/r{r}_ini.npz'\n",
    "save_filepath = '../saved_models/jasper_full/r{}_l{}_mit{}_lmax{}_hm{}.npz'\n",
    "\n",
    "if os.path.exists(ini_filepath):\n",
    "    data = np.load(ini_filepath)\n",
    "    ini_W = data['ini_W']\n",
    "    ini_H = data['ini_H']\n",
    "else:\n",
    "    ini_W = np.random.rand(m, r)\n",
    "    ini_H = np.random.rand(r, n)\n",
    "    with open(ini_filepath.format(r), 'wb') as fout:\n",
    "        np.savez_compressed(fout, ini_W=ini_W, ini_H=ini_H)"
   ]
  },
  {
   "cell_type": "code",
   "execution_count": 5,
   "metadata": {},
   "outputs": [],
   "source": [
    "def custom_sonnmf(h_update_method, M, W, H, lam=0.0, itermin=100, itermax=1000, early_stop=True, verbose=False, scale_reg=False, inner_iters=1):\n",
    "    \"\"\"Calculates NMF decomposition of the M matrix with new acceleration.\"\"\"\n",
    "\n",
    "    fscores, gscores, lambda_vals = sonnmf_ini(M, W, H, lam, itermax, scale_reg)\n",
    "\n",
    "    for it in range(1, itermax + 1):\n",
    "        # update H\n",
    "        H = h_update_method(M, W, H, inner_iters)\n",
    "\n",
    "        # update W\n",
    "        W = base_W(M, W, H, lambda_vals[it - 1])\n",
    "\n",
    "        fscores, gscores, lambda_vals, stop_now = sonnmf_post_it(M, W, H, it, fscores, gscores, lambda_vals,\n",
    "                                                                  early_stop, verbose, scale_reg, lam, itermin)\n",
    "        if stop_now:\n",
    "            break\n",
    "\n",
    "    return W, H, fscores[:it + 1], gscores[:it + 1], np.r_[np.NaN, lambda_vals[1: it + 1]]"
   ]
  },
  {
   "cell_type": "code",
   "execution_count": 6,
   "metadata": {},
   "outputs": [],
   "source": [
    "results_csv_fp = '../saved_models/jasper_full/output.csv'\n",
    "\n",
    "fieldnames = ['method', 'lmax', 'time_taken', 'fscore', 'gscore', 'scaled_lambda']\n",
    "with open(results_csv_fp, mode='w') as csv_file:\n",
    "    writer = csv.DictWriter(csv_file, fieldnames=fieldnames)\n",
    "    writer.writeheader()"
   ]
  },
  {
   "cell_type": "code",
   "execution_count": 7,
   "metadata": {},
   "outputs": [],
   "source": [
    "for lmax in [1, 5, 10, 25]:\n",
    "    for method, hfunc in enumerate([base_H, precomputed_constants, precomputed_constants_with_nesterov]):\n",
    "        start_time = time.time()\n",
    "        W, H, fscores, gscores, lvals = custom_sonnmf(hfunc, jasper_full, ini_W.copy(), ini_H.copy(), lam=_lam, itermax=max_iters, early_stop=False, verbose=False, scale_reg=True, inner_iters=lmax)\n",
    "        time_taken = time.time() - start_time\n",
    "        save_results(save_filepath.format(r, _lam, max_iters, lmax, method), W, H, fscores, gscores, lvals)\n",
    "        \n",
    "        with open(results_csv_fp, 'a') as csv_file:\n",
    "            writer = csv.DictWriter(csv_file, fieldnames=fieldnames)\n",
    "            writer.writerow({'method': method + 1,\n",
    "                             'lmax': lmax,\n",
    "                            'time_taken': time_taken,\n",
    "                            'fscore': fscores[-1],\n",
    "                            'gscore': gscores[-1],\n",
    "                            'scaled_lambda': lvals[-2]})"
   ]
  },
  {
   "cell_type": "code",
   "execution_count": null,
   "metadata": {},
   "outputs": [],
   "source": []
  },
  {
   "cell_type": "code",
   "execution_count": 4,
   "metadata": {},
   "outputs": [],
   "source": [
    "import pandas as pd\n",
    "import math"
   ]
  },
  {
   "cell_type": "code",
   "execution_count": 5,
   "metadata": {},
   "outputs": [
    {
     "data": {
      "text/html": [
       "<div>\n",
       "<style scoped>\n",
       "    .dataframe tbody tr th:only-of-type {\n",
       "        vertical-align: middle;\n",
       "    }\n",
       "\n",
       "    .dataframe tbody tr th {\n",
       "        vertical-align: top;\n",
       "    }\n",
       "\n",
       "    .dataframe thead th {\n",
       "        text-align: right;\n",
       "    }\n",
       "</style>\n",
       "<table border=\"1\" class=\"dataframe\">\n",
       "  <thead>\n",
       "    <tr style=\"text-align: right;\">\n",
       "      <th></th>\n",
       "      <th>method</th>\n",
       "      <th>lmax</th>\n",
       "      <th>time_taken</th>\n",
       "      <th>fscore</th>\n",
       "      <th>gscore</th>\n",
       "      <th>scaled_lambda</th>\n",
       "    </tr>\n",
       "  </thead>\n",
       "  <tbody>\n",
       "    <tr>\n",
       "      <th>0</th>\n",
       "      <td>1</td>\n",
       "      <td>1</td>\n",
       "      <td>5009.927686</td>\n",
       "      <td>3.157201e+09</td>\n",
       "      <td>1.550236e+06</td>\n",
       "      <td>1.527454e+06</td>\n",
       "    </tr>\n",
       "    <tr>\n",
       "      <th>1</th>\n",
       "      <td>2</td>\n",
       "      <td>1</td>\n",
       "      <td>4966.647974</td>\n",
       "      <td>3.157201e+09</td>\n",
       "      <td>1.550236e+06</td>\n",
       "      <td>1.527454e+06</td>\n",
       "    </tr>\n",
       "    <tr>\n",
       "      <th>2</th>\n",
       "      <td>3</td>\n",
       "      <td>1</td>\n",
       "      <td>4893.486216</td>\n",
       "      <td>3.157201e+09</td>\n",
       "      <td>1.550236e+06</td>\n",
       "      <td>1.527454e+06</td>\n",
       "    </tr>\n",
       "    <tr>\n",
       "      <th>3</th>\n",
       "      <td>1</td>\n",
       "      <td>5</td>\n",
       "      <td>5224.506489</td>\n",
       "      <td>1.757987e+12</td>\n",
       "      <td>4.660858e+04</td>\n",
       "      <td>2.828762e+10</td>\n",
       "    </tr>\n",
       "    <tr>\n",
       "      <th>4</th>\n",
       "      <td>2</td>\n",
       "      <td>5</td>\n",
       "      <td>5021.732696</td>\n",
       "      <td>1.757988e+12</td>\n",
       "      <td>4.660894e+04</td>\n",
       "      <td>2.828742e+10</td>\n",
       "    </tr>\n",
       "  </tbody>\n",
       "</table>\n",
       "</div>"
      ],
      "text/plain": [
       "   method  lmax   time_taken        fscore        gscore  scaled_lambda\n",
       "0       1     1  5009.927686  3.157201e+09  1.550236e+06   1.527454e+06\n",
       "1       2     1  4966.647974  3.157201e+09  1.550236e+06   1.527454e+06\n",
       "2       3     1  4893.486216  3.157201e+09  1.550236e+06   1.527454e+06\n",
       "3       1     5  5224.506489  1.757987e+12  4.660858e+04   2.828762e+10\n",
       "4       2     5  5021.732696  1.757988e+12  4.660894e+04   2.828742e+10"
      ]
     },
     "execution_count": 5,
     "metadata": {},
     "output_type": "execute_result"
    }
   ],
   "source": [
    "df = pd.read_csv('../output.csv')\n",
    "df.head()"
   ]
  },
  {
   "cell_type": "code",
   "execution_count": 18,
   "metadata": {},
   "outputs": [],
   "source": [
    "df['F'] = df['fscore'] + df['gscore'] * df['scaled_lambda']\n",
    "df['F_k'] = (1/(m*n)) * df['fscore'] + (2/((math.comb(r, 2)) - r)) * df['gscore'] * df['scaled_lambda']"
   ]
  },
  {
   "cell_type": "code",
   "execution_count": 19,
   "metadata": {},
   "outputs": [],
   "source": [
    "def load_results(filepath):\n",
    "    data = np.load(filepath)\n",
    "    return data['W'], data['H'], data['fscores'], data['gscores'], data['lambda_vals']"
   ]
  },
  {
   "cell_type": "code",
   "execution_count": 29,
   "metadata": {},
   "outputs": [
    {
     "data": {
      "text/plain": [
       "<matplotlib.legend.Legend at 0x16177df30>"
      ]
     },
     "execution_count": 29,
     "metadata": {},
     "output_type": "execute_result"
    },
    {
     "data": {
      "image/png": "[encoded data removed]",
      "text/plain": [
       "<Figure size 640x480 with 1 Axes>"
      ]
     },
     "metadata": {},
     "output_type": "display_data"
    }
   ],
   "source": [
    "for i, fp in enumerate(['../h_test/r20_l750_mit10000_lmax{5}_hm0.npz', '../h_test/r20_l750_mit10000_lmax5_hm1.npz', '../h_test/r20_l750_mit10000_lmax5_hm2.npz']):\n",
    "    W, H, fscores, gscores, lambda_vals = load_results(fp)\n",
    "    fscores = fscores[1:]\n",
    "    gscores = gscores[1:]\n",
    "    lambda_vals = lambda_vals[1:]\n",
    "    total_score = fscores + lambda_vals * gscores\n",
    "    plt.yscale('log')\n",
    "    plt.plot(total_score, label='$F(W, H)$')\n",
    "    # plt.plot(fscores, color='cyan', linewidth=1.5, label='$f(W, H)$')\n",
    "    # plt.plot(gscores, color='yellow', linewidth=1.5, label='$g(W)$')\n",
    "    plt.xlabel('Iterations')\n",
    "plt.legend(['1', '2', '3'])"
   ]
  },
  {
   "cell_type": "code",
   "execution_count": 30,
   "metadata": {},
   "outputs": [
    {
     "data": {
      "text/plain": [
       "198"
      ]
     },
     "execution_count": 30,
     "metadata": {},
     "output_type": "execute_result"
    }
   ],
   "source": [
    "m"
   ]
  },
  {
   "cell_type": "code",
   "execution_count": null,
   "metadata": {},
   "outputs": [],
   "source": []
  }
 ],
 "metadata": {
  "kernelspec": {
   "display_name": "research",
   "language": "python",
   "name": "python3"
  },
  "language_info": {
   "codemirror_mode": {
    "name": "ipython",
    "version": 3
   },
   "file_extension": ".py",
   "mimetype": "text/x-python",
   "name": "python",
   "nbconvert_exporter": "python",
   "pygments_lexer": "ipython3",
   "version": "3.10.8"
  },
  "orig_nbformat": 4
 },
 "nbformat": 4,
 "nbformat_minor": 2
}
