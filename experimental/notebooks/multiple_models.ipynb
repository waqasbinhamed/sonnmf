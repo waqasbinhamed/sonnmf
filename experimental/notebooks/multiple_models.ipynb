{
 "cells": [
  {
   "cell_type": "code",
   "execution_count": 1,
   "metadata": {},
   "outputs": [],
   "source": [
    "import os\n",
    "import time\n",
    "import csv\n",
    "import numpy as np\n",
    "from sonnmf.main import base as sonnmf\n",
    "from sonnmf.utils import save_results"
   ]
  },
  {
   "cell_type": "code",
   "execution_count": 2,
   "metadata": {},
   "outputs": [],
   "source": [
    "results_csv_fp = '../saved_models/multiple_models/output.csv'\n",
    "\n",
    "fieldnames = ['dataset', 'w_update_method', 'h_accelarated', 'time_taken', 'fscore', 'gscore', 'scaled_lambda']\n",
    "# with open(results_csv_fp, mode='w') as csv_file:\n",
    "#     writer = csv.DictWriter(csv_file, fieldnames=fieldnames)\n",
    "#     writer.writeheader()"
   ]
  },
  {
   "cell_type": "code",
   "execution_count": 3,
   "metadata": {},
   "outputs": [],
   "source": [
    "# w_methods = ['proximal_averaging', 'without_nonneg_restriction', 'subgradient', 'nesterov_smoothing', 'admm']\n",
    "w_methods = ['without_nonneg_restriction', 'admm']"
   ]
  },
  {
   "cell_type": "code",
   "execution_count": 4,
   "metadata": {},
   "outputs": [],
   "source": [
    "M = np.load('../datasets/jasper_small_6.npz')['X']\n",
    "m, n = M.shape\n",
    "max_iters = 10000\n",
    "r = n\n",
    "_lam = 1200"
   ]
  },
  {
   "cell_type": "code",
   "execution_count": 5,
   "metadata": {},
   "outputs": [],
   "source": [
    "ini_filepath = f'../saved_models/multiple_models/small_6_r{r}_ini.npz'\n",
    "save_filepath = '../saved_models/multiple_models/small_6_r{}_l{}_mit{}_wm_{}_ha{}.npz'\n",
    "\n",
    "if os.path.exists(ini_filepath):\n",
    "    data = np.load(ini_filepath)\n",
    "    ini_W = data['ini_W']\n",
    "    ini_H = data['ini_H']\n",
    "else:\n",
    "    ini_W = np.random.rand(m, r)\n",
    "    ini_H = np.random.rand(r, n)\n",
    "    with open(ini_filepath.format(r), 'wb') as fout:\n",
    "        np.savez_compressed(fout, ini_W=ini_W, ini_H=ini_H)"
   ]
  },
  {
   "cell_type": "code",
   "execution_count": 6,
   "metadata": {},
   "outputs": [
    {
     "name": "stderr",
     "output_type": "stream",
     "text": [
      "/Users/hamedsheikh/Desktop/waqas/sonnmf/sonnmf/utils.py:54: RuntimeWarning: divide by zero encountered in double_scalars\n",
      "  lambda_vals[it] = (fscores[it] / gscores[it]) * lam\n",
      "/Users/hamedsheikh/miniconda3/envs/research/lib/python3.10/site-packages/numpy/linalg/linalg.py:2557: RuntimeWarning: overflow encountered in reduce\n",
      "  return sqrt(add.reduce(s, axis=axis, keepdims=keepdims))\n",
      "/Users/hamedsheikh/Desktop/waqas/sonnmf/sonnmf/update_H.py:12: RuntimeWarning: overflow encountered in matmul\n",
      "  H = proj_simplex(H - ((W.T @ W) @ H - W.T @ M) / np.linalg.norm(W.T @ W, ord=2))\n",
      "/Users/hamedsheikh/Desktop/waqas/sonnmf/sonnmf/update_H.py:12: RuntimeWarning: invalid value encountered in matmul\n",
      "  H = proj_simplex(H - ((W.T @ W) @ H - W.T @ M) / np.linalg.norm(W.T @ W, ord=2))\n",
      "/Users/hamedsheikh/Desktop/waqas/sonnmf/sonnmf/update_W.py:107: RuntimeWarning: invalid value encountered in multiply\n",
      "  new_wi_arr[:, norm_mask] = zeta_arr[:, norm_mask] - _lam * (tmp_arr[:, norm_mask] / tmp_norm[norm_mask])\n"
     ]
    },
    {
     "name": "stdout",
     "output_type": "stream",
     "text": [
      "** On entry to DLASCL, parameter number  4 had an illegal value\n",
      "** On entry to DLASCL, parameter number  5 had an illegal value\n",
      "** On entry to DLASCL, parameter number  4 had an illegal value\n",
      "** On entry to DLASCL, parameter number  5 had an illegal value\n",
      "** On entry to DLASCL, parameter number  4 had an illegal value\n",
      "** On entry to DLASCL, parameter number  5 had an illegal value\n",
      "** On entry to DLASCL, parameter number  4 had an illegal value\n",
      "** On entry to DLASCL, parameter number  5 had an illegal value\n",
      "** On entry to DLASCL, parameter number  4 had an illegal value\n",
      "** On entry to DLASCL, parameter number  5 had an illegal value\n",
      "** On entry to DLASCL, parameter number  4 had an illegal value\n",
      "** On entry to DLASCL, parameter number  5 had an illegal value\n",
      "** On entry to DLASCL, parameter number  4 had an illegal value\n",
      "** On entry to DLASCL, parameter number  5 had an illegal value\n",
      "** On entry to DLASCL, parameter number  4 had an illegal value\n",
      "** On entry to DLASCL, parameter number  5 had an illegal value\n",
      "** On entry to DLASCL, parameter number  4 had an illegal value\n",
      "** On entry to DLASCL, parameter number  5 had an illegal value\n",
      "** On entry to DLASCL, parameter number  4 had an illegal value\n",
      "** On entry to DLASCL, parameter number  5 had an illegal value\n",
      "** On entry to DLASCL, parameter number  4 had an illegal value\n",
      "** On entry to DLASCL, parameter number  5 had an illegal value\n",
      "** On entry to DLASCL, parameter number  4 had an illegal value\n",
      "** On entry to DLASCL, parameter number  5 had an illegal value\n",
      "** On entry to DLASCL, parameter number  4 had an illegal value\n",
      "** On entry to DLASCL, parameter number  5 had an illegal value\n",
      "** On entry to DLASCL, parameter number  4 had an illegal value\n",
      "** On entry to DLASCL, parameter number  5 had an illegal value\n",
      "** On entry to DLASCL, parameter number  4 had an illegal value\n",
      "** On entry to DLASCL, parameter number  5 had an illegal value\n",
      "** On entry to DLASCL, parameter number  4 had an illegal value\n",
      "** On entry to DLASCL, parameter number  5 had an illegal value\n",
      "** On entry to DLASCL, parameter number  4 had an illegal value\n",
      "** On entry to DLASCL, parameter number  5 had an illegal value\n",
      "** On entry to DLASCL, parameter number  4 had an illegal value\n",
      "** On entry to DLASCL, parameter number  5 had an illegal value\n",
      "** On entry to DLASCL, parameter number  4 had an illegal value\n",
      "** On entry to DLASCL, parameter number  5 had an illegal value\n",
      "** On entry to DLASCL, parameter number  4 had an illegal value\n",
      "** On entry to DLASCL, parameter number  5 had an illegal value\n",
      "** On entry to DLASCL, parameter number  4 had an illegal value\n",
      "** On entry to DLASCL, parameter number  5 had an illegal value\n",
      "** On entry to DLASCL, parameter number  4 had an illegal value\n",
      "** On entry to DLASCL, parameter number  5 had an illegal value\n",
      "** On entry to DLASCL, parameter number  4 had an illegal value\n",
      "** On entry to DLASCL, parameter number  5 had an illegal value\n",
      "** On entry to DLASCL, parameter number  4 had an illegal value\n",
      "** On entry to DLASCL, parameter number  5 had an illegal value\n",
      "** On entry to DLASCL, parameter number  4 had an illegal value\n",
      "** On entry to DLASCL, parameter number  5 had an illegal value\n",
      "** On entry to DLASCL, parameter number  4 had an illegal value\n",
      "** On entry to DLASCL, parameter number  5 had an illegal value\n",
      "** On entry to DLASCL, parameter number  4 had an illegal value\n",
      "** On entry to DLASCL, parameter number  5 had an illegal value\n",
      "** On entry to DLASCL, parameter number  4 had an illegal value\n",
      "** On entry to DLASCL, parameter number  5 had an illegal value\n",
      "** On entry to DLASCL, parameter number  4 had an illegal value\n",
      "** On entry to DLASCL, parameter number  5 had an illegal value\n",
      "** On entry to DLASCL, parameter number  4 had an illegal value\n",
      "** On entry to DLASCL, parameter number  5 had an illegal value\n",
      "** On entry to DLASCL, parameter number  4 had an illegal value\n",
      "** On entry to DLASCL, parameter number  5 had an illegal value\n",
      "** On entry to DLASCL, parameter number  4 had an illegal value\n",
      "** On entry to DLASCL, parameter number  5 had an illegal value\n",
      "** On entry to DLASCL, parameter number  4 had an illegal value\n",
      "** On entry to DLASCL, parameter number  5 had an illegal value\n",
      "** On entry to DLASCL, parameter number  4 had an illegal value\n",
      "** On entry to DLASCL, parameter number  5 had an illegal value\n",
      "** On entry to DLASCL, parameter number  4 had an illegal value\n",
      "** On entry to DLASCL, parameter number  5 had an illegal value\n",
      "** On entry to DLASCL, parameter number  4 had an illegal value\n",
      "** On entry to DLASCL, parameter number  5 had an illegal value\n",
      "** On entry to DLASCL, parameter number  4 had an illegal value\n",
      "** On entry to DLASCL, parameter number  5 had an illegal value\n",
      "** On entry to DLASCL, parameter number  4 had an illegal value\n",
      "** On entry to DLASCL, parameter number  5 had an illegal value\n",
      "** On entry to DLASCL, parameter number  4 had an illegal value\n",
      "** On entry to DLASCL, parameter number  5 had an illegal value\n",
      "** On entry to DLASCL, parameter number  4 had an illegal value\n",
      "** On entry to DLASCL, parameter number  5 had an illegal value\n",
      "** On entry to DLASCL, parameter number  4 had an illegal value\n",
      "** On entry to DLASCL, parameter number  5 had an illegal value\n",
      "** On entry to DLASCL, parameter number  4 had an illegal value\n",
      "** On entry to DLASCL, parameter number  5 had an illegal value\n",
      "** On entry to DLASCL, parameter number  4 had an illegal value\n",
      "** On entry to DLASCL, parameter number  5 had an illegal value\n",
      "** On entry to DLASCL, parameter number  4 had an illegal value\n",
      "** On entry to DLASCL, parameter number  5 had an illegal value\n",
      "** On entry to DLASCL, parameter number  4 had an illegal value\n",
      "** On entry to DLASCL, parameter number  5 had an illegal value\n",
      "** On entry to DLASCL, parameter number  4 had an illegal value\n",
      "** On entry to DLASCL, parameter number  5 had an illegal value\n",
      "** On entry to DLASCL, parameter number  4 had an illegal value\n",
      "** On entry to DLASCL, parameter number  5 had an illegal value\n",
      "** On entry to DLASCL, parameter number  4 had an illegal value\n",
      "** On entry to DLASCL, parameter number  5 had an illegal value\n",
      "** On entry to DLASCL, parameter number  4 had an illegal value\n",
      "** On entry to DLASCL, parameter number  5 had an illegal value\n",
      "** On entry to DLASCL, parameter number  4 had an illegal value\n",
      "** On entry to DLASCL, parameter number  5 had an illegal value\n",
      "** On entry to DLASCL, parameter number  4 had an illegal value\n",
      "** On entry to DLASCL, parameter number  5 had an illegal value\n",
      "** On entry to DLASCL, parameter number  4 had an illegal value\n",
      "** On entry to DLASCL, parameter number  5 had an illegal value\n",
      "** On entry to DLASCL, parameter number  4 had an illegal value\n",
      "** On entry to DLASCL, parameter number  5 had an illegal value\n",
      "** On entry to DLASCL, parameter number  4 had an illegal value\n",
      "** On entry to DLASCL, parameter number  5 had an illegal value\n"
     ]
    }
   ],
   "source": [
    "for w_method in w_methods:\n",
    "    for h_acc in [False, True]:\n",
    "        start_time = time.time()\n",
    "        W, H, fscores, gscores, lvals = sonnmf(M, ini_W.copy(), ini_H.copy(), lam=_lam, \n",
    "                                               w_update_method=w_method, h_update_accelarated=h_acc, itermax=max_iters, early_stop=True, verbose=False, scale_reg=True)\n",
    "        time_taken = time.time() - start_time\n",
    "        save_results(save_filepath.format(r, _lam, max_iters, w_method, int(h_acc)), W, H, fscores, gscores, lvals)\n",
    "        \n",
    "        with open(results_csv_fp, 'a') as csv_file:\n",
    "            writer = csv.DictWriter(csv_file, fieldnames=fieldnames)\n",
    "            writer.writerow({'dataset': 'small_6',\n",
    "                            'w_update_method': w_method,\n",
    "                            'h_accelarated': int(h_acc),\n",
    "                            'time_taken': time_taken,\n",
    "                            'fscore': fscores[-1],\n",
    "                            'gscore': gscores[-1],\n",
    "                            'scaled_lambda': lvals[-2]})"
   ]
  },
  {
   "cell_type": "code",
   "execution_count": null,
   "metadata": {},
   "outputs": [],
   "source": []
  },
  {
   "cell_type": "code",
   "execution_count": null,
   "metadata": {},
   "outputs": [],
   "source": [
    "M = np.load('../datasets/jasper_small_2.npz')['X']\n",
    "m, n = M.shape\n",
    "max_iters = 10000\n",
    "r = n\n",
    "_lam = 100000"
   ]
  },
  {
   "cell_type": "code",
   "execution_count": null,
   "metadata": {},
   "outputs": [],
   "source": [
    "w_methods = ['without_nonneg_restriction', 'nesterov_smoothing', 'admm']"
   ]
  },
  {
   "cell_type": "code",
   "execution_count": null,
   "metadata": {},
   "outputs": [],
   "source": [
    "ini_filepath = f'../saved_models/multiple_models/small_2_r{r}_ini.npz'\n",
    "save_filepath = '../saved_models/multiple_models/small_2_r{}_l{}_mit{}_wm_{}_ha{}.npz'\n",
    "\n",
    "if os.path.exists(ini_filepath):\n",
    "    data = np.load(ini_filepath)\n",
    "    ini_W = data['ini_W']\n",
    "    ini_H = data['ini_H']\n",
    "else:\n",
    "    ini_W = np.random.rand(m, r)\n",
    "    ini_H = np.random.rand(r, n)\n",
    "    with open(ini_filepath.format(r), 'wb') as fout:\n",
    "        np.savez_compressed(fout, ini_W=ini_W, ini_H=ini_H)"
   ]
  },
  {
   "cell_type": "code",
   "execution_count": null,
   "metadata": {},
   "outputs": [],
   "source": [
    "for w_method in w_methods[2:]:\n",
    "    for h_acc in [False, True]:\n",
    "        start_time = time.time()\n",
    "        W, H, fscores, gscores, lvals = sonnmf(M, ini_W.copy(), ini_H.copy(), lam=_lam, \n",
    "                                               w_update_method=w_method, h_update_accelarated=h_acc, itermax=max_iters, early_stop=True, verbose=False, scale_reg=True)\n",
    "        time_taken = time.time() - start_time\n",
    "        save_results(save_filepath.format(r, _lam, max_iters, w_method, int(h_acc)), W, H, fscores, gscores, lvals)\n",
    "        \n",
    "        with open(results_csv_fp, 'a') as csv_file:\n",
    "            writer = csv.DictWriter(csv_file, fieldnames=fieldnames)\n",
    "            writer.writerow({'dataset': 'small_2',\n",
    "                            'w_update_method': w_method,\n",
    "                            'h_accelarated': int(h_acc),\n",
    "                            'time_taken': time_taken,\n",
    "                            'fscore': fscores[-1],\n",
    "                            'gscore': gscores[-1],\n",
    "                            'scaled_lambda': lvals[-2]})"
   ]
  },
  {
   "cell_type": "code",
   "execution_count": null,
   "metadata": {},
   "outputs": [],
   "source": [
    "M = np.load('../datasets/jasper_full.npz')['X']\n",
    "m, n = M.shape\n",
    "max_iters = 10000\n",
    "r = 20\n",
    "_lam = 750"
   ]
  },
  {
   "cell_type": "code",
   "execution_count": null,
   "metadata": {},
   "outputs": [],
   "source": [
    "w_methods = ['proximal_averaging', 'without_nonneg_restriction', 'subgradient', 'nesterov_smoothing', 'admm']"
   ]
  },
  {
   "cell_type": "code",
   "execution_count": null,
   "metadata": {},
   "outputs": [],
   "source": [
    "ini_filepath = f'../saved_models/multiple_models/full_r{r}_ini.npz'\n",
    "save_filepath = '../saved_models/multiple_models/full_r{}_l{}_mit{}_wm_{}_ha{}.npz'\n",
    "\n",
    "if os.path.exists(ini_filepath):\n",
    "    data = np.load(ini_filepath)\n",
    "    ini_W = data['ini_W']\n",
    "    ini_H = data['ini_H']\n",
    "else:\n",
    "    ini_W = np.random.rand(m, r)\n",
    "    ini_H = np.random.rand(r, n)\n",
    "    with open(ini_filepath.format(r), 'wb') as fout:\n",
    "        np.savez_compressed(fout, ini_W=ini_W, ini_H=ini_H)"
   ]
  },
  {
   "cell_type": "code",
   "execution_count": null,
   "metadata": {},
   "outputs": [],
   "source": [
    "for w_method in w_methods:\n",
    "    for h_acc in [False, True]:\n",
    "        start_time = time.time()\n",
    "        W, H, fscores, gscores, lvals = sonnmf(M, ini_W.copy(), ini_H.copy(), lam=_lam, \n",
    "                                               w_update_method=w_method, h_update_accelarated=h_acc, itermax=max_iters, early_stop=True, verbose=False, scale_reg=True)\n",
    "        time_taken = time.time() - start_time\n",
    "        save_results(save_filepath.format(r, _lam, max_iters, w_method, int(h_acc)), W, H, fscores, gscores, lvals)\n",
    "        \n",
    "        with open(results_csv_fp, 'a') as csv_file:\n",
    "            writer = csv.DictWriter(csv_file, fieldnames=fieldnames)\n",
    "            writer.writerow({'dataset': 'full',\n",
    "                            'w_update_method': w_method,\n",
    "                            'h_accelarated': int(h_acc),\n",
    "                            'time_taken': time_taken,\n",
    "                            'fscore': fscores[-1],\n",
    "                            'gscore': gscores[-1],\n",
    "                            'scaled_lambda': lvals[-2]})"
   ]
  }
 ],
 "metadata": {
  "kernelspec": {
   "display_name": "research",
   "language": "python",
   "name": "python3"
  },
  "language_info": {
   "codemirror_mode": {
    "name": "ipython",
    "version": 3
   },
   "file_extension": ".py",
   "mimetype": "text/x-python",
   "name": "python",
   "nbconvert_exporter": "python",
   "pygments_lexer": "ipython3",
   "version": "3.10.9"
  },
  "orig_nbformat": 4
 },
 "nbformat": 4,
 "nbformat_minor": 2
}
