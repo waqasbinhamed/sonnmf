{
 "cells": [
  {
   "cell_type": "code",
   "execution_count": 1,
   "metadata": {
    "collapsed": true,
    "pycharm": {
     "name": "#%%\n"
    }
   },
   "outputs": [],
   "source": [
    "import os\n",
    "import numpy as np\n",
    "from sklearn.decomposition import NMF\n",
    "from sonnmf.main import sonnmf\n",
    "import matplotlib.pyplot as plt"
   ]
  },
  {
   "cell_type": "code",
   "execution_count": 2,
   "metadata": {
    "collapsed": false,
    "pycharm": {
     "name": "#%%\n"
    }
   },
   "outputs": [],
   "source": [
    "def sample_dirichlet(alpha, N):\n",
    "    k = len(alpha)\n",
    "    theta = np.zeros((N, k))\n",
    "    scale = 1\n",
    "    for i in range(k):\n",
    "        theta[:, i] = np.random.gamma(alpha[i], scale, N)\n",
    "    S = np.sum(theta, axis=1)\n",
    "    theta = theta / np.tile(S.reshape(-1, 1), (1, k))\n",
    "    return theta\n",
    "\n",
    "\n",
    "def create_synthetic_data():\n",
    "    Wt = np.array([[1, 0, 0, 1], [1, 0, 1, 0], [0, 1, 1, 0], [0, 1, 0, 1]])\n",
    "    r = 4\n",
    "\n",
    "    n = 500\n",
    "    purity = 0.8\n",
    "    alpha = 0.05 * np.ones((r, 1))\n",
    "    Ht = sample_dirichlet(alpha, n).T\n",
    "    for j in range(n):\n",
    "        while np.max(Ht[:, j]) > purity:\n",
    "            Ht[:, j: j+1] = sample_dirichlet(alpha, 1).T\n",
    "    epsilon = 0.01\n",
    "    Xt = np.dot(Wt, Ht)\n",
    "    X = np.maximum(0, Xt + epsilon * np.random.randn(*Xt.shape))\n",
    "    return X, Wt, Ht\n",
    "\n",
    "\n",
    "def plot_3d(X, Wt, W, filepath):\n",
    "    fig = plt.figure()\n",
    "    ax = fig.add_subplot(111, projection='3d')\n",
    "    ax.scatter(X[0, :], X[1, :], X[2, :], c='lightblue', marker='o')\n",
    "    ax.scatter(Wt[0, :], Wt[1, :], Wt[2, :], c='red', marker='o', s=144)\n",
    "    ax.scatter(W[0, :], W[1, :], W[2, :], c='black', marker='x', s=144)\n",
    "    ax.set_xlabel('X1')\n",
    "    ax.set_ylabel('X2')\n",
    "    ax.set_zlabel('X3')\n",
    "    ax.legend(['Data points', 'True W', 'Estimated W'])\n",
    "    ax.grid(True)\n",
    "    plt.tight_layout()\n",
    "    if filepath:\n",
    "        plt.savefig(filepath)\n",
    "    else:\n",
    "        plt.show()\n",
    "\n",
    "def save_results(filepath, W, H, fscores, gscores, hscores, total_scores):\n",
    "    with open(filepath, 'wb') as fout:\n",
    "        np.savez_compressed(fout, W=W, H=H, fscores=fscores, gscores=gscores, hscores=hscores, total_scores=total_scores)\n",
    "\n",
    "def load_results(filepath):\n",
    "    data = np.load(filepath)\n",
    "    return data['W'], data['H'], data['fscores'], data['gscores'], data['hscores'], data['total_scores']"
   ]
  },
  {
   "cell_type": "code",
   "execution_count": 3,
   "metadata": {
    "collapsed": false,
    "pycharm": {
     "name": "#%%\n"
    }
   },
   "outputs": [],
   "source": [
    "data_filepath = '../datasets/synthetic_data.npz'\n",
    "ini_filepath = '../saved_models/synthetic/r{}_ini.npz'"
   ]
  },
  {
   "cell_type": "code",
   "execution_count": 4,
   "outputs": [],
   "source": [
    "if os.path.exists(data_filepath):\n",
    "    data = np.load(data_filepath)\n",
    "    M = data['M']\n",
    "    W_true = data['W_true']\n",
    "    H_true = data['H_true']\n",
    "else:\n",
    "    M, W_true, H_true = create_synthetic_data()\n",
    "    with open(data_filepath, 'wb') as fout:\n",
    "        np.savez_compressed(fout, M=M, W_true=W_true, H_true=H_true)"
   ],
   "metadata": {
    "collapsed": false,
    "pycharm": {
     "name": "#%%\n"
    }
   }
  },
  {
   "cell_type": "code",
   "execution_count": 8,
   "metadata": {
    "collapsed": false,
    "pycharm": {
     "name": "#%%\n"
    }
   },
   "outputs": [],
   "source": [
    "m, n = M.shape\n",
    "max_iters = 10000\n",
    "r = 4\n",
    "\n",
    "if os.path.exists(ini_filepath.format(r)):\n",
    "    data = np.load(ini_filepath.format(r))\n",
    "    ini_W = data['ini_W']\n",
    "    ini_H = data['ini_H']\n",
    "else:\n",
    "    ini_W = np.random.rand(m, r)\n",
    "    ini_H = np.random.rand(r, n)\n",
    "    with open(ini_filepath.format(r), 'wb') as fout:\n",
    "        np.savez_compressed(fout, ini_W=ini_W, ini_H=ini_H)"
   ]
  },
  {
   "cell_type": "code",
   "execution_count": 9,
   "metadata": {
    "collapsed": false,
    "pycharm": {
     "name": "#%%\n"
    }
   },
   "outputs": [],
   "source": [
    "save_filepath = f'../saved_models/synthetic/vanilla_r{r}_it{max_iters}.npz'\n",
    "\n",
    "model = NMF(n_components=r, init='custom', random_state=42, max_iter=max_iters)\n",
    "W = model.fit_transform(X=M, W=ini_W.copy(), H=ini_H.copy())\n",
    "H = model.components_\n",
    "with open(save_filepath, 'wb') as fout:\n",
    "    np.savez_compressed(fout, W=W, H=H)"
   ]
  },
  {
   "cell_type": "code",
   "execution_count": 10,
   "outputs": [],
   "source": [
    "save_filepath = '../saved_models/synthetic/r{}_l{}_g{}_it{}.npz'\n",
    "image_filepath = '../images/synthetic/r{}_l{}_g{}_it{}.jpg'\n",
    "\n",
    "W, H, fscores, gscores, hscores, total_scores = sonnmf(M, ini_W.copy(), ini_H.copy(), lam=0.001, gamma=0.1, itermax=max_iters, W_update_iters=10, early_stop=False, verbose=False)\n",
    "save_results(save_filepath.format(r, 0.001, 0.1, max_iters), W, H, fscores, gscores, hscores, total_scores)\n"
   ],
   "metadata": {
    "collapsed": false,
    "pycharm": {
     "name": "#%%\n"
    }
   }
  },
  {
   "cell_type": "code",
   "execution_count": null,
   "outputs": [],
   "source": [
    "save_filepath = '../saved_models/synthetic/5x_r{}_l{}_g{}_it{}.npz'\n",
    "image_filepath = '../images/synthetic/5x_r{}_l{}_g{}_it{}.jpg'\n",
    "\n",
    "for it in [1, 10, 100, 1000, 10000]:\n",
    "    W, H, fscores, gscores, hscores, total_scores = sonnmf(M, ini_W.copy(), ini_H.copy(), lam=0.01, gamma=0.5, itermax=it, W_update_iters=10, early_stop=False, verbose=False)\n",
    "    save_results(save_filepath.format(r, 0.01, 0.5, it), W, H, fscores, gscores, hscores, total_scores)"
   ],
   "metadata": {
    "collapsed": false,
    "pycharm": {
     "name": "#%%\n"
    }
   }
  },
  {
   "cell_type": "code",
   "execution_count": null,
   "outputs": [],
   "source": [],
   "metadata": {
    "collapsed": false,
    "pycharm": {
     "name": "#%%\n"
    }
   }
  },
  {
   "cell_type": "code",
   "execution_count": null,
   "outputs": [],
   "source": [],
   "metadata": {
    "collapsed": false,
    "pycharm": {
     "name": "#%%\n"
    }
   }
  },
  {
   "cell_type": "code",
   "execution_count": null,
   "metadata": {
    "collapsed": false,
    "pycharm": {
     "name": "#%%\n"
    }
   },
   "outputs": [],
   "source": [
    "row_labels = ['Rank 4', 'Rank 8']\n",
    "col_labels = ['Vanilla NMF', 'Vanilla NMF \\n (L2 norm adjusted)', 'SONNMF']\n",
    "\n",
    "fig = plt.figure(figsize=(18, 8))\n",
    "gs = fig.add_gridspec(2, len(col_labels) + 1, width_ratios=[0.1] + len(col_labels) * [1])\n",
    "\n",
    "for i, rlabel in enumerate(row_labels):\n",
    "    txt_ax = fig.add_subplot(gs[i, 0])\n",
    "    txt_ax.text(0.5, 0.5, rlabel, ha='center', va='center', fontsize=18)\n",
    "    txt_ax.axis('off')\n",
    "\n",
    "r = 4\n",
    "vW1 = np.load('../saved_models/synthetic/vanilla_r{}_it{}.npz'.format(r, max_iters))['W']\n",
    "col_norm_vW1 = np.linalg.norm(vW1, axis=0, ord=2, keepdims=True)\n",
    "vW1_re = vW1 / col_norm_vW1\n",
    "# vH1_re = vH1 * col_norm_vW1.T\n",
    "cW1, _, _, _, _, _ = load_results('../saved_models/synthetic/r{}_l{}_g{}_it{}.npz'.format(r, 0.001, 0.1, 10000))\n",
    "\n",
    "for i, curr_W in enumerate([vW1, vW1_re, cW1]):\n",
    "    curr_subplot = fig.add_subplot(gs[0, i+1], projection='3d')\n",
    "    plot_3d(curr_subplot, M, W_true, curr_W)\n",
    "    curr_subplot.set_title(col_labels[i], fontsize=18)\n",
    "\n",
    "\n",
    "r = 8\n",
    "vW2 = np.load('../saved_models/synthetic/vanilla_r{}_it{}.npz'.format(r, max_iters))['W']\n",
    "col_norm_vW2 = np.linalg.norm(vW2, axis=0, ord=2, keepdims=True)\n",
    "vW2_re = vW2 / col_norm_vW2\n",
    "# vH2_re = vH2 * col_norm_vW2.T\n",
    "cW2, _, _, _, _, _ = load_results('../saved_models/synthetic/r{}_l{}_g{}_it{}.npz'.format(r, 0.01, 0.5, 10000))\n",
    "\n",
    "for i, curr_W in enumerate([vW2, vW2_re, cW2]):\n",
    "    plot_3d(fig.add_subplot(gs[1, i+1], projection='3d'), M, W_true, curr_W)\n",
    "\n",
    "# adjust spacing between subplots\n",
    "fig.tight_layout(pad=1.0)\n",
    "plt.savefig('../images/synthetic/vanilla_vs_sonnmf.png')"
   ]
  },
  {
   "cell_type": "code",
   "execution_count": null,
   "outputs": [],
   "source": [
    "fig = plt.figure(figsize=(20, 5))\n",
    "axs = [fig.add_subplot(1, 5, i+1, projection='3d') for i in range(5)]\n",
    "\n",
    "def plot_3d_mod(ax, X, Wt, W):\n",
    "    ax.scatter(X[0, :], X[1, :], X[2, :], c='lightblue', marker='o')\n",
    "    ax.scatter(Wt[0, :], Wt[1, :], Wt[2, :], c='red', marker='o', s=144)\n",
    "    ax.scatter(W[0, :], W[1, :], W[2, :], c='black', marker='x', s=144)\n",
    "    ax.set_xlabel('X1')\n",
    "    ax.set_ylabel('X2')\n",
    "    ax.set_zlabel('X3')\n",
    "    ax.grid(True)\n",
    "\n",
    "# Loop over iterations and plot W using plot_3d function\n",
    "for i, it in enumerate([1, 10, 100, 1000, 10000]):\n",
    "    W, _, _, _, _, _ = load_results(save_filepath.format(r, 0.01, 0.5, it))\n",
    "    plot_3d_mod(axs[i], M, W_true, W)\n",
    "    axs[i].set_title('{} iterations'.format(it))\n",
    "fig.legend(['Data points', 'True W', 'Estimated W'],\n",
    "                 bbox_to_anchor=(0.85, 0.85, 0, 0))\n",
    "plt.subplots_adjust(left=0.05, right=0.95, bottom=0.05, top=0.95, wspace=0.2)\n",
    "plt.savefig('../images/synthetic/iterations2.png')"
   ],
   "metadata": {
    "collapsed": false,
    "pycharm": {
     "name": "#%%\n"
    }
   }
  },
  {
   "cell_type": "code",
   "execution_count": null,
   "outputs": [],
   "source": [],
   "metadata": {
    "collapsed": false,
    "pycharm": {
     "name": "#%%\n"
    }
   }
  }
 ],
 "metadata": {
  "kernelspec": {
   "display_name": "Python 3",
   "language": "python",
   "name": "python3"
  },
  "language_info": {
   "codemirror_mode": {
    "name": "ipython",
    "version": 3
   },
   "file_extension": ".py",
   "mimetype": "text/x-python",
   "name": "python",
   "nbconvert_exporter": "python",
   "pygments_lexer": "ipython3",
   "version": "3.10.8"
  }
 },
 "nbformat": 4,
 "nbformat_minor": 0
}